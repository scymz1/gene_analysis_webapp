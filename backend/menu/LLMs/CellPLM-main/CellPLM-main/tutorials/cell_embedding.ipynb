{
 "cells": [
  {
   "cell_type": "markdown",
   "id": "56fc5a70",
   "metadata": {},
   "source": [
    "## Import necessary packages"
   ]
  },
  {
   "cell_type": "code",
   "execution_count": 1,
   "id": "aafcd9dc",
   "metadata": {},
   "source": [
    "import warnings\n",
    "warnings.filterwarnings(\"ignore\")\n",
    "\n",
    "import hdf5plugin\n",
    "import numpy as np\n",
    "import anndata as ad\n",
    "from scipy.sparse import csr_matrix\n",
    "from CellPLM.utils import set_seed\n",
    "from CellPLM.pipeline.cell_embedding import CellEmbeddingPipeline\n",
    "import scanpy as sc\n",
    "import matplotlib.pyplot as plt\n",
    "import rapids_singlecell as rsc  # For faster evaluation, we recommend the installation of rapids_singlecell."
   ],
   "outputs": []
  },
  {
   "cell_type": "markdown",
   "id": "536d3952",
   "metadata": {},
   "source": [
    "## Specify important parameters before getting started"
   ]
  },
  {
   "cell_type": "code",
   "execution_count": 2,
   "id": "874f0469",
   "metadata": {},
   "source": [
    "PRETRAIN_VERSION = '20231027_85M'\n",
    "DEVICE = 'cuda:1'"
   ],
   "outputs": []
  },
  {
   "cell_type": "markdown",
   "id": "044a88ad",
   "metadata": {},
   "source": [
    "## Load Downstream Dataset\n",
    "\n",
    "The example dataset here is from [GSE155468](https://www.ncbi.nlm.nih.gov/geo/query/acc.cgi?acc=GSE155468).\n"
   ]
  },
  {
   "cell_type": "code",
   "execution_count": 3,
   "id": "63c4d4d6",
   "metadata": {},
   "source": [
    "set_seed(42)\n",
    "\n",
    "data = ad.read_h5ad('../data/gse155468.h5ad')\n",
    "data.obs_names_make_unique()"
   ],
   "outputs": []
  },
  {
   "cell_type": "markdown",
   "id": "ff96bc99",
   "metadata": {},
   "source": [
    "## Set up the pipeline"
   ]
  },
  {
   "cell_type": "code",
   "execution_count": 4,
   "id": "e54b753e",
   "metadata": {},
   "source": [
    "pipeline = CellEmbeddingPipeline(pretrain_prefix=PRETRAIN_VERSION, # Specify the pretrain checkpoint to load\n",
    "                                 pretrain_directory='../ckpt')\n",
    "pipeline.model"
   ],
   "outputs": []
  },
  {
   "cell_type": "markdown",
   "id": "172f80ee",
   "metadata": {},
   "source": [
    "## Evaluation and Inference\n",
    "\n",
    "Once the pipeline is initialized, performing inference (cell embedding query) or evaluation on new datasets (with clustering metrics) can be easily accomplished using the built-in `predict` and `score` functions."
   ]
  },
  {
   "cell_type": "code",
   "execution_count": 5,
   "id": "99af1706",
   "metadata": {},
   "source": [
    "embedding = pipeline.predict(data, # An AnnData object\n",
    "                device=DEVICE) # Specify a gpu or cpu for model inference\n",
    "\n",
    "data.obsm['emb'] = embedding.cpu().numpy()\n",
    "sc.pp.neighbors(data, use_rep='emb', method='rapids') # remove method='rapids' if rapids is not installed\n",
    "sc.tl.umap(data, method='rapids') # remove method='rapids' if rapids is not installed\n",
    "plt.rcParams['figure.figsize'] = (6, 6)\n",
    "sc.pl.umap(data, color='celltype', palette='Paired')"
   ],
   "outputs": []
  },
  {
   "cell_type": "code",
   "execution_count": 6,
   "id": "f773fa50",
   "metadata": {},
   "source": [
    "pipeline.score(data, # An AnnData object\n",
    "               label_fields=['celltype'],\n",
    "               evaluation_config = {\n",
    "                   'method': 'rapids', # change to 'scanpy' if 'rapids_singlecell' is not installed; the final scores may vary due to the implementation\n",
    "                   'batch_size': 50000, # Specify batch size to limit gpu memory usage\n",
    "               },\n",
    "               device=DEVICE) # Specify a gpu or cpu for model inference"
   ],
   "outputs": []
  },
  {
   "cell_type": "code",
   "execution_count": null,
   "id": "f62de0f9",
   "metadata": {},
   "source": [],
   "outputs": []
  }
 ],
 "metadata": {
  "kernelspec": {
   "display_name": "rapids-23.02",
   "language": "python",
   "name": "rapids-23.02"
  },
  "language_info": {
   "codemirror_mode": {
    "name": "ipython",
    "version": 3
   },
   "file_extension": ".py",
   "mimetype": "text/x-python",
   "name": "python",
   "nbconvert_exporter": "python",
   "pygments_lexer": "ipython3",
   "version": "3.8.16"
  }
 },
 "nbformat": 4,
 "nbformat_minor": 5
}
