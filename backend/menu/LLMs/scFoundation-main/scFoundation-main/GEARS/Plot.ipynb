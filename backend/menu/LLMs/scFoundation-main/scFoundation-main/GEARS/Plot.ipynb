{
 "cells": [
  {
   "cell_type": "code",
   "execution_count": 1,
   "id": "c10fb63a-32f8-4a59-a365-72d88d0bc28c",
   "metadata": {},
   "source": [
    "%pylab inline\n",
    "import pickle"
   ],
   "outputs": []
  },
  {
   "cell_type": "code",
   "execution_count": 2,
   "id": "d3c75014-d3ab-4264-9ca0-58af8db32d96",
   "metadata": {},
   "source": [
    "import os\n",
    "os.getpid()"
   ],
   "outputs": []
  },
  {
   "cell_type": "code",
   "execution_count": 4,
   "id": "76951860-31eb-4426-a97f-e6e20adb31da",
   "metadata": {},
   "source": [
    "from gears import PertData, GEARS"
   ],
   "outputs": []
  },
  {
   "cell_type": "code",
   "execution_count": 5,
   "id": "ae3e610c-9a36-46fa-8ac7-3617107c10d3",
   "metadata": {},
   "source": [
    "pert_data = PertData('/nfs_beijing/minsheng/scbig/bioinfoDownStream/gears_singlecell/data/')"
   ],
   "outputs": []
  },
  {
   "cell_type": "code",
   "execution_count": 6,
   "id": "9a48dea8-2627-4f45-819f-cf157c94da40",
   "metadata": {},
   "source": [
    "from os.path import join as pjoin\n",
    "pert_data.load(data_path = pjoin('/nfs_beijing/minsheng/scbig/bioinfoDownStream/gears_singlecell/data/', 'gse133344_k562gi_oe_pert227_84986_19264_withtotalcount'))"
   ],
   "outputs": []
  },
  {
   "cell_type": "code",
   "execution_count": 7,
   "id": "decfcac1-9725-4ea4-85bd-56c2e2e1a875",
   "metadata": {},
   "source": [
    "pert_data.prepare_split(split = 'simulation', seed = 1, train_gene_set_size=0.75)\n",
    "pert_data.get_dataloader(batch_size = 6, test_batch_size = 6)"
   ],
   "outputs": []
  },
  {
   "cell_type": "code",
   "execution_count": 8,
   "id": "b08d6108-27d3-4a3b-8d75-044169d4f7bb",
   "metadata": {},
   "source": [
    "gears_model = GEARS(pert_data, device = 'cuda:1')"
   ],
   "outputs": []
  },
  {
   "cell_type": "code",
   "execution_count": 9,
   "id": "45055414-8cd4-4214-a8f3-ccc927ab04bd",
   "metadata": {},
   "source": [
    "modelPath = '/nfs_beijing/minsheng/scbig/bioinfoDownStream/gears_singlecell/results/gse133344_k562gi_oe_pert227_84986_19264_withtotalcount/0.75/split_simulation_seed_1_hidden_128_epochs_15_batch_30/2023-03-21_20-58-58'"
   ],
   "outputs": []
  },
  {
   "cell_type": "code",
   "execution_count": 11,
   "id": "382ec842-79c3-40a4-8584-15d32ed0ee21",
   "metadata": {},
   "source": [
    "gears_model.load_pretrained(modelPath)"
   ],
   "outputs": []
  },
  {
   "cell_type": "code",
   "execution_count": 11,
   "id": "68212c4d-558f-4b48-86e6-74717bb74891",
   "metadata": {},
   "source": [
    "pretrain_model = GEARS(pert_data, device = 'cuda:1')\n",
    "modelPath = '/nfs_beijing/minsheng/scbig/bioinfoDownStream/gears_singlecell/results/gse133344_k562gi_oe_pert227_84986_19264_withtotalcount/0.75/50m-0.1B_split_simulation_seed_1_hidden_512_bin_autobin_resolution_append_singlecell_maeautobin_finetune_frozen_epochs_15_batch_6_accmu_5_mode_v1_highres_0_lr_0.01/2023-03-27_15-46-01/'\n",
    "pretrain_model.load_pretrained(modelPath)"
   ],
   "outputs": []
  },
  {
   "cell_type": "code",
   "execution_count": 12,
   "id": "d4e1adb9-88ec-44f7-9040-d060d7016624",
   "metadata": {},
   "source": [
    "pert_data.subgroup['test_subgroup'].keys()"
   ],
   "outputs": []
  },
  {
   "cell_type": "code",
   "execution_count": 13,
   "id": "739dacd3-ba18-44e4-9ed8-7bda665911c0",
   "metadata": {},
   "source": [
    "pert_data.adata.obs.condition.unique()"
   ],
   "outputs": []
  },
  {
   "cell_type": "code",
   "execution_count": 14,
   "id": "8d05462e-f2f0-4368-a253-92170bd9a968",
   "metadata": {},
   "source": [
    "test_single = pert_data.subgroup['test_subgroup']['unseen_single']"
   ],
   "outputs": []
  },
  {
   "cell_type": "code",
   "execution_count": 15,
   "id": "3e4d672b-a95c-4872-9a1a-635c4663fec3",
   "metadata": {},
   "source": [
    "query = test_single[0]"
   ],
   "outputs": []
  },
  {
   "cell_type": "code",
   "execution_count": 16,
   "id": "12bb588e-cd14-4a87-ab08-11aba5e3c210",
   "metadata": {},
   "source": [
    "adata = gears_model.adata\n",
    "gene2idx = gears_model.node_map\n",
    "cond2name = dict(adata.obs[['condition', 'condition_name']].values)\n",
    "gene_raw2id = dict(zip(adata.var.index.values, adata.var.gene_name.values))\n",
    "de_idx = [gene2idx[gene_raw2id[i]] for i in adata.uns['top_non_dropout_de_20'][cond2name[query]]]"
   ],
   "outputs": []
  },
  {
   "cell_type": "code",
   "execution_count": 18,
   "id": "d5c0f41b-e0cd-4995-8218-405775e54824",
   "metadata": {},
   "source": [
    "from gears.inference import evaluate, compute_metrics, deeper_analysis, non_dropout_analysis, compute_synergy_loss,GI_subgroup"
   ],
   "outputs": []
  },
  {
   "cell_type": "code",
   "execution_count": 65,
   "id": "69e6723b-a5e7-47c0-a1e6-d69bbc0d2963",
   "metadata": {},
   "source": [
    "test_res = evaluate(gears_model.dataloader['test_loader'], gears_model.best_model, gears_model.config['uncertainty'], gears_model.device)   \n",
    "test_metrics, test_pert_res = compute_metrics(test_res) "
   ],
   "outputs": []
  },
  {
   "cell_type": "code",
   "execution_count": 259,
   "id": "a8da5f4e-c7c5-43fe-854c-c109e11029df",
   "metadata": {},
   "source": [
    "test_metrics"
   ],
   "outputs": []
  },
  {
   "cell_type": "code",
   "execution_count": null,
   "id": "7b97454f-20f3-42e3-ac76-2e2cc11269fb",
   "metadata": {},
   "source": [
    "test_res_pt = evaluate(pretrain_model.dataloader['test_loader'], pretrain_model.best_model, pretrain_model.config['uncertainty'], pretrain_model.device)   \n",
    "test_metrics_pt, test_pert_res_pt = compute_metrics(test_res_pt) "
   ],
   "outputs": []
  },
  {
   "cell_type": "code",
   "execution_count": null,
   "id": "b1e404a3-442d-425f-b608-c38a4fc1dc3a",
   "metadata": {},
   "source": [
    "import pickle\n",
    "with open('Norman_results/baseline_testpred.pkl','wb') as f:\n",
    "    pickle.dump([test_res,test_metrics,test_pert_res],f)\n",
    "with open('Norman_results/scFoundation_testpred.pkl','wb') as f:\n",
    "    pickle.dump([test_res_pt,test_metrics_pt,test_pert_res_pt],f)"
   ],
   "outputs": []
  },
  {
   "cell_type": "code",
   "execution_count": 26,
   "id": "3c446809-f394-421f-b7ac-9af70b1c1e61",
   "metadata": {},
   "source": [
    "import pickle\n",
    "with open('Norman_results/baseline_testpred.pkl','rb') as f:\n",
    "    [test_res,test_metrics,test_pert_res] = pickle.load(f)\n",
    "with open('Norman_results/scFoundation_testpred.pkl','rb') as f:\n",
    "    [test_res_pt,test_metrics_pt,test_pert_res_pt] = pickle.load(f)"
   ],
   "outputs": []
  },
  {
   "cell_type": "code",
   "execution_count": 27,
   "id": "802e4d94-9774-4429-b233-8eacf79348c8",
   "metadata": {},
   "source": [
    "test_metrics_pt"
   ],
   "outputs": []
  },
  {
   "cell_type": "code",
   "execution_count": 28,
   "id": "30724f23-a181-4499-8a7d-95a8eab92c67",
   "metadata": {},
   "source": [
    "import pandas as pd\n",
    "testptdf = pd.DataFrame(test_pert_res_pt)\n",
    "testdf = pd.DataFrame(test_pert_res)\n",
    "testptdf['type']=testptdf.index\n",
    "testdf['type']=testdf.index\n",
    "pltdf1 = testptdf.melt(id_vars='type')\n",
    "pltdf2 = testdf.melt(id_vars='type')\n",
    "pltdf1['model']='scFoundation'\n",
    "pltdf2['model']='Baseline'\n",
    "pltdf = pd.concat([pltdf1,pltdf2])"
   ],
   "outputs": []
  },
  {
   "cell_type": "code",
   "execution_count": 29,
   "id": "10fb781f-bd73-411e-8b0c-fa7e76399492",
   "metadata": {},
   "source": [
    "import scanpy as sc\n",
    "import seaborn as sns\n",
    "import colorbm as cbm\n",
    "import scipy.stats\n",
    "sns.set_palette(sns.color_palette(cbm.pal('npg').as_hex))"
   ],
   "outputs": []
  },
  {
   "cell_type": "code",
   "execution_count": 30,
   "id": "9be39daf-d399-4b21-b16f-f7f43071f1bf",
   "metadata": {},
   "source": [
    "pltdf['ptype']='Unknown'\n",
    "pltdf['testtype']='Unknown'"
   ],
   "outputs": []
  },
  {
   "cell_type": "code",
   "execution_count": 38,
   "id": "a82f45aa-0fea-4d50-af8b-02017066ca35",
   "metadata": {},
   "source": [
    "#GIs in the bottom\n",
    "for k in GIs.keys():\n",
    "    for n in GIs[k]:\n",
    "        pltdf.loc[pltdf.variable==n,'ptype']=k"
   ],
   "outputs": []
  },
  {
   "cell_type": "code",
   "execution_count": 32,
   "id": "2a9a2929-761f-4a7e-b0d5-b48bb75bc857",
   "metadata": {},
   "source": [
    "for name, pert_list in pretrain_model.subgroup['test_subgroup'].items():\n",
    "    for pert in pert_list:\n",
    "        pltdf.loc[pltdf.variable==pert,'testtype']=name"
   ],
   "outputs": []
  },
  {
   "cell_type": "code",
   "execution_count": 33,
   "id": "03fc560d-291e-4146-a44c-61c82ff352d6",
   "metadata": {},
   "source": [
    "tmppltdf = pltdf.loc[pltdf.type=='mse_de',['value','testtype','model']]\n",
    "tmppltdf = tmppltdf.append({'value':test_metrics_pt['mse_de'],'testtype':'all','model':'scFoundation'},ignore_index=True)\n",
    "tmppltdf = tmppltdf.append({'value':test_metrics['mse_de'],'testtype':'all','model':'Baseline'},ignore_index=True)                                        "
   ],
   "outputs": []
  },
  {
   "cell_type": "code",
   "execution_count": 34,
   "id": "676d28d5-38d0-4ef8-8244-af22aace22a5",
   "metadata": {},
   "source": [
    "rcParams['axes.spines.right'] = False\n",
    "rcParams['axes.spines.top'] = False\n",
    "rcParams['pdf.fonttype'] = 42\n",
    "rcParams['ps.fonttype'] = 42\n",
    "figsize(4,3)\n",
    "sns.barplot(pltdf[pltdf.type=='mse_de'],y='value',x='testtype',hue='model',errorbar=None,order=['unseen_single', 'combo_seen2', 'combo_seen1', 'combo_seen0'])\n",
    "plt.xticks(rotation=45,fontsize=10);\n",
    "plt.ylabel('MSE',fontsize=15)\n",
    "plt.yticks(fontsize=10)\n",
    "plt.xlabel(None)\n",
    "\n",
    "plt.legend(loc='center right',bbox_to_anchor=(1.7, 0.5),facecolor='white', framealpha=1);\n",
    "# plt.savefig('Norman_MSEall.pdf',bbox_inches='tight')"
   ],
   "outputs": []
  },
  {
   "cell_type": "code",
   "execution_count": 40,
   "id": "5bedd4e3-acfb-416a-8df0-1a022282b2b3",
   "metadata": {},
   "source": [
    "baseline_out = deeper_analysis(gears_model.adata, test_res)"
   ],
   "outputs": []
  },
  {
   "cell_type": "code",
   "execution_count": 41,
   "id": "4d81bc3a-112b-4c9c-82d9-825af7f277a5",
   "metadata": {},
   "source": [
    "pretrain_out = deeper_analysis(pretrain_model.adata, test_res_pt)"
   ],
   "outputs": []
  },
  {
   "cell_type": "code",
   "execution_count": 42,
   "id": "08cce6d5-361b-4240-b705-40174665510d",
   "metadata": {},
   "source": [
    "deepbaseline = pd.DataFrame(baseline_out)\n",
    "deepscFoundation = pd.DataFrame(pretrain_out)"
   ],
   "outputs": []
  },
  {
   "cell_type": "code",
   "execution_count": 43,
   "id": "cf92ebaa-c973-48b8-b23d-14d1d991c75c",
   "metadata": {},
   "source": [
    "deepbaseline.to_csv('Norman_results/deepbaseline.csv')\n",
    "deepscFoundation.to_csv('Norman_results/deepbaseline.csv')"
   ],
   "outputs": []
  },
  {
   "cell_type": "code",
   "execution_count": 44,
   "id": "a28f0f5f-04d6-4495-a664-ad328cb9f66c",
   "metadata": {},
   "source": [
    "deepbaseline['type']=deepbaseline.index\n",
    "deepscFoundation['type']=deepscFoundation.index\n",
    "pltdf1 = deepbaseline.melt(id_vars='type')\n",
    "pltdf2 = deepscFoundation.melt(id_vars='type')\n",
    "pltdf1['model']='Baseline'\n",
    "pltdf2['model']='scFoundation'\n",
    "pltdf = pd.concat([pltdf2,pltdf1])"
   ],
   "outputs": []
  },
  {
   "cell_type": "code",
   "execution_count": 45,
   "id": "267095da-84ac-4276-9440-1827a9ed66f8",
   "metadata": {},
   "source": [
    "pltdf['ptype']='Unknown'\n",
    "pltdf['testtype']='Unknown'"
   ],
   "outputs": []
  },
  {
   "cell_type": "code",
   "execution_count": 46,
   "id": "f5c96029-494c-4a87-b5cd-6e36edf6a33a",
   "metadata": {},
   "source": [
    "for k in GIs.keys():\n",
    "    for n in GIs[k]:\n",
    "        pltdf.loc[pltdf.variable==n,'ptype']=k\n",
    "\n",
    "for name, pert_list in pretrain_model.subgroup['test_subgroup'].items():\n",
    "    for pert in pert_list:\n",
    "        pltdf.loc[pltdf.variable==pert,'testtype']=name"
   ],
   "outputs": []
  },
  {
   "cell_type": "code",
   "execution_count": 47,
   "id": "22e2c35c-97ef-4c10-b2a8-8ef602221372",
   "metadata": {},
   "source": [
    "rcParams['axes.spines.right'] = False\n",
    "rcParams['axes.spines.top'] = False\n",
    "rcParams['pdf.fonttype'] = 42\n",
    "rcParams['ps.fonttype'] = 42\n",
    "figsize(4,3)\n",
    "ax=sns.barplot(pltdf[pltdf.type=='frac_in_range_45_55'],y='value',x='testtype',hue='model',errorbar=None,order=['unseen_single', 'combo_seen2', 'combo_seen1', 'combo_seen0'])\n",
    "# sns.boxplot(pltdf[pltdf.type=='mse_de'],y='value',x='testtype',hue='model',order=['unseen_single', 'combo_seen2', 'combo_seen1', 'combo_seen0'])\n",
    "plt.xticks(rotation=45,fontsize=10);\n",
    "vals = ax.get_yticks()\n",
    "ax.set_yticklabels(['{:,.0%}'.format(x) for x in vals])\n",
    "plt.ylabel('% of perdiction in 45-55 \\n interval of top 20 DE',fontsize=10)\n",
    "plt.yticks(fontsize=10)\n",
    "plt.xlabel(None)\n",
    "# plt.ylim(0.6,1)\n",
    "\n",
    "plt.legend(loc='center right',bbox_to_anchor=(1.7, 0.5),facecolor='white', framealpha=1);\n",
    "# plt.savefig('Norman_Frac4555.pdf',bbox_inches='tight')"
   ],
   "outputs": []
  },
  {
   "cell_type": "markdown",
   "id": "bc971bf9-37d3-46da-9325-e05ccae8bb02",
   "metadata": {
    "tags": []
   },
   "source": [
    "\n",
    "## GI"
   ]
  },
  {
   "cell_type": "code",
   "execution_count": 48,
   "id": "671cd47e-7207-4c6e-80e7-84f69ade504e",
   "metadata": {},
   "source": [
    "all2pertb = [x.split('+') for x in deepbaseline.columns.tolist()[:-1] if x.split('+')[1]!='ctrl']"
   ],
   "outputs": []
  },
  {
   "cell_type": "markdown",
   "id": "c8b385e0-c163-431d-8a3a-ff9d479d4cfd",
   "metadata": {
    "tags": []
   },
   "source": [
    "### pred GI"
   ]
  },
  {
   "cell_type": "code",
   "execution_count": 56,
   "id": "96ea71fd-cb58-46bb-ba90-61fdad0e14c2",
   "metadata": {},
   "source": [
    "basegi=[]\n",
    "for p2 in all2pertb:\n",
    "    tmpgi = gears_model.GI_predict(p2)\n",
    "    basegi.append(tmpgi)"
   ],
   "outputs": []
  },
  {
   "cell_type": "code",
   "execution_count": 57,
   "id": "eebf6494-6316-48ba-ae0c-274eeb4a2ce1",
   "metadata": {},
   "source": [
    "with open('Norman_results/basegi.pkl','wb') as f:\n",
    "    pickle.dump(basegi,f)"
   ],
   "outputs": []
  },
  {
   "cell_type": "code",
   "execution_count": 58,
   "id": "31a7031c-a863-4c7f-bb16-dbf1764f4de8",
   "metadata": {},
   "source": [
    "basegiscore = {}\n",
    "for i in range(len(all2pertb)):\n",
    "    p2 = all2pertb[i]\n",
    "    dfdict = {}\n",
    "    for key in basegi[i].keys():\n",
    "        if key=='ts':\n",
    "            continue\n",
    "        dfdict[key]=basegi[i][key]\n",
    "    basegiscore[p2[0]+'+'+p2[1]]=dfdict"
   ],
   "outputs": []
  },
  {
   "cell_type": "code",
   "execution_count": 60,
   "id": "54cdb6ca-9bd0-422a-9d89-d4bf0b3a1a32",
   "metadata": {},
   "source": [
    "pretraingi=[]\n",
    "for p2 in all2pertb:\n",
    "    tmpgi = pretrain_model.GI_predict(p2)\n",
    "    pretraingi.append(tmpgi)\n",
    "    \n",
    "with open('Norman_results/pretraingi.pkl','wb') as f:\n",
    "    pickle.dump(pretraingi,f)"
   ],
   "outputs": []
  },
  {
   "cell_type": "code",
   "execution_count": 61,
   "id": "664161ef-5c39-4316-991b-cf677f5af76a",
   "metadata": {},
   "source": [
    "pretgiscore = {}\n",
    "for i in range(len(all2pertb)):\n",
    "    p2 = all2pertb[i]\n",
    "    dfdict = {}\n",
    "    for key in pretraingi[i].keys():\n",
    "        if key=='ts':\n",
    "            continue\n",
    "        dfdict[key]=pretraingi[i][key]\n",
    "    pretgiscore[p2[0]+'+'+p2[1]]=dfdict"
   ],
   "outputs": []
  },
  {
   "cell_type": "markdown",
   "id": "59c28a4a-dc05-48fc-b6d3-ab48f05b82ac",
   "metadata": {},
   "source": [
    "### truth GI"
   ]
  },
  {
   "cell_type": "code",
   "execution_count": 62,
   "id": "89aff472-9b46-4e2a-bfc5-f303aee79bcb",
   "metadata": {},
   "source": [
    "from gears.utils import get_mean_control,get_GI_genes_idx,get_GI_params\n",
    "def GI_truth(model, combo, GI_genes_file='./genes_with_hi_mean.npy'):\n",
    "    ## given a gene pair, return (1) transcriptome of A,B,A+B and (2) GI scores. \n",
    "    ## if uncertainty mode is on, also return uncertainty score.\n",
    "    \n",
    "    pred = {}\n",
    "    pred[combo[0]] = np.array(gears_model.adata[gears_model.adata.obs.condition==combo[0]+'+ctrl'].X.mean(0))[0]\n",
    "    pred[combo[1]] = np.array(gears_model.adata[gears_model.adata.obs.condition==combo[1]+'+ctrl'].X.mean(0))[0]\n",
    "    pred['_'.join(combo)] = np.array(gears_model.adata[gears_model.adata.obs.condition=='+'.join(combo)].X.mean(0))[0]\n",
    "    \n",
    "    mean_control = get_mean_control(model.adata).values  \n",
    "    pred = {p:pred[p]-mean_control for p in pred} \n",
    "\n",
    "    if GI_genes_file is not None:\n",
    "        # If focussing on a specific subset of genes for calculating metrics\n",
    "        GI_genes_idx = get_GI_genes_idx(model.adata, GI_genes_file)       \n",
    "    else:\n",
    "        GI_genes_idx = np.arange(len(model.adata.var.gene_name.values))\n",
    "    pred = {p:pred[p][GI_genes_idx] for p in pred}\n",
    "    return get_GI_params(pred, combo)"
   ],
   "outputs": []
  },
  {
   "cell_type": "code",
   "execution_count": 63,
   "id": "c54f8a78-8013-439b-bc51-8c328e17dabe",
   "metadata": {},
   "source": [
    "from tqdm import tqdm\n",
    "truthgi=[]\n",
    "for p2 in tqdm(all2pertb):\n",
    "    tmpgi = GI_truth(gears_model,p2)\n",
    "    truthgi.append(tmpgi)"
   ],
   "outputs": []
  },
  {
   "cell_type": "code",
   "execution_count": 64,
   "id": "ffddba92-235e-4c5f-af4a-c8b785b1a884",
   "metadata": {},
   "source": [
    "with open('Norman_results/truthgi.pkl','wb') as f:\n",
    "    pickle.dump(truthgi,f)"
   ],
   "outputs": []
  },
  {
   "cell_type": "code",
   "execution_count": 65,
   "id": "e232275d-370b-45b9-a03c-4b9329cb063b",
   "metadata": {},
   "source": [
    "truthgiscore = {}\n",
    "for i in range(len(all2pertb)):\n",
    "    p2 = all2pertb[i]\n",
    "    dfdict = {}\n",
    "    for key in truthgi[i].keys():\n",
    "        if key=='ts':\n",
    "            continue\n",
    "        dfdict[key]=truthgi[i][key]\n",
    "    truthgiscore[p2[0]+'+'+p2[1]]=dfdict"
   ],
   "outputs": []
  },
  {
   "cell_type": "markdown",
   "id": "ba65d3e0-3711-4825-8e5a-fae454c8694d",
   "metadata": {},
   "source": [
    "### preprocess"
   ]
  },
  {
   "cell_type": "code",
   "execution_count": 109,
   "id": "5a2cf9a0-575a-4a57-aae8-1fb3cec77a5a",
   "metadata": {},
   "source": [
    "basegidf = pd.DataFrame(basegiscore)\n",
    "basegidf['metric']=basegidf.index\n",
    "pretgidf = pd.DataFrame(pretgiscore)\n",
    "pretgidf['metric']=pretgidf.index\n",
    "truthgidf = pd.DataFrame(truthgiscore)\n",
    "truthgidf['metric']=truthgidf.index\n",
    "\n",
    "\n",
    "pltdf1 = basegidf.melt(id_vars='metric')\n",
    "pltdf2 = pretgidf.melt(id_vars='metric')\n",
    "pltdf3 = truthgidf.melt(id_vars='metric')\n",
    "pltdf1['model']='Baseline'\n",
    "pltdf2['model']='scFoundation'\n",
    "pltdf3['model']='GT'\n",
    "\n",
    "pltdf = pd.concat([pltdf2,pltdf1,pltdf3])\n",
    "\n",
    "pltdf['ptype']='Unknown'\n",
    "pltdf['testtype']='Unknown'\n",
    "\n",
    "for k in GIs.keys():\n",
    "    for n in GIs[k]:\n",
    "        pltdf.loc[pltdf.variable==n,'ptype']=k\n",
    "\n",
    "for name, pert_list in pretrain_model.subgroup['test_subgroup'].items():\n",
    "    for pert in pert_list:\n",
    "        pltdf.loc[pltdf.variable==pert,'testtype']=name"
   ],
   "outputs": []
  },
  {
   "cell_type": "markdown",
   "id": "73e01620-a7f4-4054-9027-6b2e1601df03",
   "metadata": {},
   "source": [
    "## Evaluation GI"
   ]
  },
  {
   "cell_type": "markdown",
   "id": "086ecdcc-45aa-4822-b18f-05fae1a89f8b",
   "metadata": {
    "tags": []
   },
   "source": [
    "### Allpearson"
   ]
  },
  {
   "cell_type": "code",
   "execution_count": 68,
   "id": "53e1eb5d-4e6a-4ce9-8242-417944c7f218",
   "metadata": {},
   "source": [
    "from scipy.stats import pearsonr"
   ],
   "outputs": []
  },
  {
   "cell_type": "code",
   "execution_count": 69,
   "id": "dfe81b81-aae5-400e-84dc-c6d3256e9259",
   "metadata": {},
   "source": [
    "tmpdf1 = pltdf[(pltdf.model=='GT')&(pltdf.metric=='mag')].copy()\n",
    "tmpdf1.index=tmpdf1.variable\n",
    "tmpdf2 = pltdf[(pltdf.model=='scFoundation')&(pltdf.metric=='mag')].copy()\n",
    "tmpdf2.index=tmpdf2.variable\n",
    "assert tmpdf1.index.tolist()==tmpdf2.index.tolist()\n",
    "figsize(4,4)\n",
    "sns.scatterplot(x=tmpdf1.value,y=tmpdf2.value,color='black');\n",
    "print(pearsonr(tmpdf1.value,tmpdf2.value))\n",
    "plt.xlim(0,2)\n",
    "plt.ylim(0,2)\n",
    "plt.xlabel('Ground Truth')\n",
    "plt.ylabel('scFoundation')\n",
    "sns.lineplot(x=[0,2],y=[0,2],color='red',linestyle='--');\n",
    "# plt.savefig(f'Pearson_mag_pretrain.pdf',bbox_inches='tight')"
   ],
   "outputs": []
  },
  {
   "cell_type": "code",
   "execution_count": 70,
   "id": "c42d5382-5c34-4d3b-a04c-2ee0da554621",
   "metadata": {},
   "source": [
    "tmpdf1 = pltdf[(pltdf.model=='GT')&(pltdf.metric=='mag')].copy()\n",
    "tmpdf1.index=tmpdf1.variable\n",
    "tmpdf2 = pltdf[(pltdf.model=='Baseline')&(pltdf.metric=='mag')].copy()\n",
    "tmpdf2.index=tmpdf2.variable\n",
    "assert tmpdf1.index.tolist()==tmpdf2.index.tolist()\n",
    "sns.scatterplot(x=tmpdf1.value,y=tmpdf2.value,color='black');\n",
    "print(pearsonr(tmpdf1.value,tmpdf2.value))\n",
    "plt.xlim(0,2)\n",
    "plt.ylim(0,2)\n",
    "plt.xlabel('Ground Truth')\n",
    "plt.ylabel('Baseline')\n",
    "sns.lineplot(x=[0,2],y=[0,2],color='red',linestyle='--');\n",
    "# plt.savefig(f'Pearson_mag_baseline.pdf',bbox_inches='tight')"
   ],
   "outputs": []
  },
  {
   "cell_type": "markdown",
   "id": "c7cf69db-4c70-4d94-b198-c50230ec8331",
   "metadata": {
    "tags": []
   },
   "source": [
    "### AUROC"
   ]
  },
  {
   "cell_type": "code",
   "execution_count": 110,
   "id": "e83479e5-ff02-428c-8745-b5cc304d606b",
   "metadata": {},
   "source": [
    "pltdf = pltdf[pltdf.ptype!='Unknown']"
   ],
   "outputs": []
  },
  {
   "cell_type": "code",
   "execution_count": 111,
   "id": "093f7b8a-e0f6-4d99-911f-f5adea7974ee",
   "metadata": {},
   "source": [
    "pltdf"
   ],
   "outputs": []
  },
  {
   "cell_type": "code",
   "execution_count": 125,
   "id": "dea5fa47-c261-4f1b-ac07-7f5e28ebd1c4",
   "metadata": {},
   "source": [
    "aucdf = pltdf[(pltdf.metric=='mag')]\n",
    "aucdf['label']=0\n",
    "aucdf.loc[aucdf.ptype=='SYNERGY','label']=1\n",
    "\n",
    "import numpy as np\n",
    "from sklearn import metrics\n",
    "t1=aucdf.loc[aucdf.model=='scFoundation']\n",
    "t1 = t1.sort_values('value',ascending=False)\n",
    "t2=aucdf.loc[aucdf.model=='Baseline']\n",
    "t2 = t2.sort_values('value',ascending=False)\n",
    "pfpr, ptpr, thresholds = metrics.roc_curve(t1['label'],t1['value'], pos_label=1)\n",
    "bfpr, btpr, thresholds = metrics.roc_curve(t2['label'],t2['value'], pos_label=1)\n",
    "N=20\n",
    "print(aucdf.label.sum(),sum(t1.label.tolist()[:N]),sum(t2.label.tolist()[:N]))"
   ],
   "outputs": []
  },
  {
   "cell_type": "code",
   "execution_count": 126,
   "id": "7dd294d6-859a-41da-a89d-505eadb96aac",
   "metadata": {},
   "source": [
    "from matplotlib_venn import venn3,venn3_circles"
   ],
   "outputs": []
  },
  {
   "cell_type": "code",
   "execution_count": 127,
   "id": "399ca428-d5f7-4997-86f1-26212c58a8ad",
   "metadata": {},
   "source": [
    "gtset = set(aucdf[aucdf.ptype=='SYNERGY'].variable.tolist())\n",
    "figsize(7,7)\n",
    "\n",
    "venn3(subsets=[set(t1.variable.tolist()[:N]),set(t2.variable.tolist()[:N]),gtset],\n",
    "     set_labels=['scEPT','Baseline','Ground Truth'],\n",
    "     set_colors=('#C44E52','#55A868','#4C72B0'),\n",
    "     alpha=0.5)\n",
    "\n",
    "c=venn3_circles(subsets =[set(t1.variable.tolist()[:N]),set(t2.variable.tolist()[:N]),gtset], linestyle='--', linewidth=1, color=\"black\")\n",
    "c[2].set_ls('-')\n",
    "# plt.savefig(f'Venn_SYNERGY.pdf',bbox_inches='tight')"
   ],
   "outputs": []
  },
  {
   "cell_type": "code",
   "execution_count": 1603,
   "id": "36846c23-c4a3-4499-be58-3bfe65b2d79c",
   "metadata": {},
   "source": [
    "gtset = set(aucdf[aucdf.ptype=='SYNERGY'].variable.tolist())\n",
    "figsize(7,7)\n",
    "\n",
    "venn3(subsets=[set(t1.variable.tolist()[:N]),set(t2.variable.tolist()[:N]),gtset],\n",
    "     set_colors=('#C44E52','#55A868','#4C72B0'),\n",
    "     # set_colors=cbm.pal('npg').as_hex,\n",
    "     alpha=0.5)\n",
    "\n",
    "c=venn3_circles(subsets =[set(t1.variable.tolist()[:N]),set(t2.variable.tolist()[:N]),gtset], linestyle='--', linewidth=1, color=\"black\")\n",
    "c[2].set_ls('-')\n",
    "# plt.savefig(f'Venn_SYNERGY.pdf',bbox_inches='tight')"
   ],
   "outputs": []
  },
  {
   "cell_type": "code",
   "execution_count": 119,
   "id": "89a2c0a6-d115-4ce7-8f31-12b197314538",
   "metadata": {},
   "source": [
    "aucdf = pltdf[(pltdf.metric=='mag')]\n",
    "aucdf['label']=0\n",
    "aucdf.loc[aucdf.ptype=='SUPPRESSOR','label']=1\n",
    "print(aucdf.label.sum())\n",
    "import numpy as np\n",
    "from sklearn import metrics\n",
    "t1=aucdf.loc[aucdf.model=='scFoundation']\n",
    "t1 = t1.sort_values('value',ascending=True)\n",
    "t2=aucdf.loc[aucdf.model=='Baseline']\n",
    "t2 = t2.sort_values('value',ascending=True)\n",
    "pfpr, ptpr, thresholds = metrics.roc_curve(t1['label'],-t1['value'], pos_label=1)\n",
    "bfpr, btpr, thresholds = metrics.roc_curve(t2['label'],-t2['value'], pos_label=1)\n",
    "N=20\n",
    "print(sum(t1.label.tolist()[:N]),sum(t2.label.tolist()[:N]))"
   ],
   "outputs": []
  },
  {
   "cell_type": "code",
   "execution_count": 124,
   "id": "df677676-1e6d-4cf2-b161-1b6e1c8dd51f",
   "metadata": {},
   "source": [
    "sns.set_palette(sns.color_palette(\"deep\", desat=0.75))\n",
    "gtset = set(aucdf[aucdf.ptype=='SUPPRESSOR'].variable.tolist())\n",
    "figsize(5,5)\n",
    "venn=venn3(subsets=[set(t1.variable.tolist()[:N]),set(t2.variable.tolist()[:N]),gtset],\n",
    "     set_labels=['scFoundation','Baseline','Ground Truth'],\n",
    "     set_colors=('#C44E52','#55A868','#4C72B0'),\n",
    "     alpha=.5)\n",
    "c=venn3_circles(subsets =[set(t1.variable.tolist()[:N]),set(t2.variable.tolist()[:N]),gtset], linestyle='--', linewidth=1, color=\"black\")\n",
    "c[2].set_ls('-')\n",
    "# plt.savefig(f'Venn_SUPPRESSOR.pdf',bbox_inches='tight')"
   ],
   "outputs": []
  },
  {
   "cell_type": "code",
   "execution_count": 1591,
   "id": "7b2c7788-1c6a-4c58-b7d4-9d3365934c8c",
   "metadata": {},
   "source": [
    "#different random seed from different computational nodes\n",
    "gtset = set(aucdf[aucdf.ptype=='SUPPRESSOR'].variable.tolist())\n",
    "figsize(7,7)\n",
    "venn3(subsets=[set(t1.variable.tolist()[:N]),set(t2.variable.tolist()[:N]),gtset],\n",
    "     set_labels=['scFoundation','Baseline','Ground Truth'],\n",
    "     set_colors=('#C44E52','#55A868','#4C72B0'),\n",
    "     alpha=.5)\n",
    "c=venn3_circles(subsets =[set(t1.variable.tolist()[:N]),set(t2.variable.tolist()[:N]),gtset], linestyle='--', linewidth=1, color=\"black\")\n",
    "c[2].set_ls('-')\n",
    "# plt.savefig(f'Venn_SUPPRESSOR.pdf',bbox_inches='tight')"
   ],
   "outputs": []
  },
  {
   "cell_type": "markdown",
   "id": "2980aa76-d258-4e55-b484-531548590714",
   "metadata": {
    "tags": []
   },
   "source": [
    "## Case"
   ]
  },
  {
   "cell_type": "code",
   "execution_count": 128,
   "id": "1eccfbd3-aa47-4306-a2b0-3e05dcea3520",
   "metadata": {},
   "source": [
    "tmpdf1 = pd.DataFrame(test_pert_res)\n",
    "tmpdf2 = pd.DataFrame(test_pert_res_pt)\n",
    "tmpdf2.index=['mse2','pearson2','msede','pde']\n",
    "tmpdf = pd.concat([tmpdf1,tmpdf2],axis=0).T\n",
    "\n",
    "tmpdf['delta']=tmpdf.msede-tmpdf.mse_de\n",
    "\n",
    "tmpdf.sort_values('delta',ascending=True)"
   ],
   "outputs": []
  },
  {
   "cell_type": "code",
   "execution_count": 129,
   "id": "1463e57f-e440-4998-8d50-5180ea4216b3",
   "metadata": {},
   "source": [
    "query='ETS2+CEBPE'\n",
    "adata = gears_model.adata\n",
    "gene2idx = gears_model.node_map\n",
    "cond2name = dict(adata.obs[['condition', 'condition_name']].values)\n",
    "gene_raw2id = dict(zip(adata.var.index.values, adata.var.gene_name.values))\n",
    "de_idx = [gene2idx[gene_raw2id[i]] for i in adata.uns['top_non_dropout_de_20'][cond2name[query]]]\n",
    "genes = [gene_raw2id[i] for i in adata.uns['top_non_dropout_de_20'][cond2name[query]]]"
   ],
   "outputs": []
  },
  {
   "cell_type": "code",
   "execution_count": 130,
   "id": "1d1fa1ff-543b-4cff-b8a0-4f3e957a01d9",
   "metadata": {},
   "source": [
    "p_idx = np.where(test_res_pt['pert_cat'] == query)[0]\n",
    "scFoundationpred=pd.DataFrame(test_res_pt['pred'][p_idx][:,de_idx],columns=genes)\n",
    "p_idx = np.where(test_res['pert_cat'] == query)[0]\n",
    "baselinepred=pd.DataFrame(test_res['pred'][p_idx][:,de_idx],columns=genes)"
   ],
   "outputs": []
  },
  {
   "cell_type": "code",
   "execution_count": 131,
   "id": "faa8b357-477d-4759-b70d-d3492684982a",
   "metadata": {},
   "source": [
    "truth = adata[adata.obs.condition == query].X.toarray()[:, de_idx]\n",
    "ctrl_means = adata[adata.obs['condition'] == 'ctrl'].to_df().mean()[de_idx].values\n",
    "scFoundationpred = scFoundationpred - ctrl_means\n",
    "baselinepred = baselinepred - ctrl_means\n",
    "truth = truth - ctrl_means"
   ],
   "outputs": []
  },
  {
   "cell_type": "code",
   "execution_count": 132,
   "id": "24c2b9f8-6811-4c1d-9fe7-a8a7befdf548",
   "metadata": {},
   "source": [
    "pltdf1= scFoundationpred.melt()\n",
    "pltdf2= baselinepred.melt()\n",
    "\n",
    "pltdf3 = pd.DataFrame(truth,columns=genes).melt()\n",
    "pltdf1['model']='scFoundation'\n",
    "pltdf2['model']='Baseline'\n",
    "pltdf3['model']='GT'\n",
    "pltdf = pd.concat([pltdf1,pltdf2,pltdf3])"
   ],
   "outputs": []
  },
  {
   "cell_type": "code",
   "execution_count": 134,
   "id": "5270f61d-6269-4bc6-866e-2255cbcfde2a",
   "metadata": {},
   "source": [
    "sns.set_palette(sns.color_palette(cbm.pal('npg').as_hex))\n",
    "figsize(15,4)\n",
    "sns.boxplot(data=pltdf,x='variable',y='value',hue='model',hue_order=['scFoundation','Baseline','GT',],fliersize=1,width=0.6)\n",
    "plt.legend(loc='center right',bbox_to_anchor=(1.15, 0.5),facecolor='white', framealpha=1,fontsize=14);\n",
    "plt.xticks(rotation=45,fontsize=13);\n",
    "plt.ylabel('Delta over control',fontsize=13)\n",
    "plt.yticks(fontsize=13)\n",
    "plt.xlabel(None);\n",
    "plt.title(query)\n",
    "# plt.savefig('ETS2+CEBPE.pdf',bbox_inches='tight')"
   ],
   "outputs": []
  },
  {
   "cell_type": "markdown",
   "id": "fb4852ef-afa4-41b3-9622-b86b6a3fbbce",
   "metadata": {
    "tags": []
   },
   "source": [
    "## content"
   ]
  },
  {
   "cell_type": "code",
   "execution_count": 36,
   "id": "2d62711c-52df-4b52-9c56-dd4043a728cc",
   "metadata": {
    "tags": []
   },
   "source": [
    "GIs = {\n",
    "    'NEOMORPHIC': ['CBL+TGFBR2',\n",
    "                  'KLF1+TGFBR2',\n",
    "                  'MAP2K6+SPI1',\n",
    "                  'SAMD1+TGFBR2',\n",
    "                  'TGFBR2+C19orf26',\n",
    "                  'TGFBR2+ETS2',\n",
    "                  'CBL+UBASH3A',\n",
    "                  'CEBPE+KLF1',\n",
    "                  'DUSP9+MAPK1',\n",
    "                  'FOSB+PTPN12',\n",
    "                  'PLK4+STIL',\n",
    "                  'PTPN12+OSR2',\n",
    "                  'ZC3HAV1+CEBPE'],\n",
    "    'ADDITIVE': ['BPGM+SAMD1',\n",
    "                'CEBPB+MAPK1',\n",
    "                'CEBPB+OSR2',\n",
    "                'DUSP9+PRTG',\n",
    "                'FOSB+OSR2',\n",
    "                'IRF1+SET',\n",
    "                'MAP2K3+ELMSAN1',\n",
    "                'MAP2K6+ELMSAN1',\n",
    "                'POU3F2+FOXL2',\n",
    "                'RHOXF2BB+SET',\n",
    "                'SAMD1+PTPN12',\n",
    "                'SAMD1+UBASH3B',\n",
    "                'SAMD1+ZBTB1',\n",
    "                'SGK1+TBX2',\n",
    "                'TBX3+TBX2',\n",
    "                'ZBTB10+SNAI1'],\n",
    "    'EPISTASIS': ['AHR+KLF1',\n",
    "                 'MAPK1+TGFBR2',\n",
    "                 'TGFBR2+IGDCC3',\n",
    "                 'TGFBR2+PRTG',\n",
    "                 'UBASH3B+OSR2',\n",
    "                 'DUSP9+ETS2',\n",
    "                 'KLF1+CEBPA',\n",
    "                 'MAP2K6+IKZF3',\n",
    "                 'ZC3HAV1+CEBPA'],\n",
    "    'REDUNDANT': ['CDKN1C+CDKN1A',\n",
    "                 'MAP2K3+MAP2K6',\n",
    "                 'CEBPB+CEBPA',\n",
    "                 'CEBPE+CEBPA',\n",
    "                 'CEBPE+SPI1',\n",
    "                 'ETS2+MAPK1',\n",
    "                 'FOSB+CEBPE',\n",
    "                 'FOXA3+FOXA1'],\n",
    "    'SYNERGY': ['CNN1+UBASH3A',\n",
    "                    'ETS2+MAP7D1',\n",
    "                    'FEV+CBFA2T3',\n",
    "                    'FEV+ISL2',\n",
    "                    'FEV+MAP7D1',\n",
    "                    'PTPN12+UBASH3A',\n",
    "                    'CBL+CNN1',\n",
    "                            'CBL+PTPN12',\n",
    "                            'CBL+PTPN9',\n",
    "                            'CBL+UBASH3B',\n",
    "                            'FOXA3+FOXL2',\n",
    "                            'FOXA3+HOXB9',\n",
    "                            'FOXL2+HOXB9',\n",
    "                            'UBASH3B+CNN1',\n",
    "                            'UBASH3B+PTPN12',\n",
    "                            'UBASH3B+PTPN9',\n",
    "                            'UBASH3B+ZBTB25',\n",
    "                                'AHR+FEV',\n",
    "                                'DUSP9+SNAI1',\n",
    "                                'FOXA1+FOXF1',\n",
    "                                'FOXA1+FOXL2',\n",
    "                                'FOXA1+HOXB9',\n",
    "                                'FOXF1+FOXL2',\n",
    "                                'FOXF1+HOXB9',\n",
    "                                'FOXL2+MEIS1',\n",
    "                                'IGDCC3+ZBTB25',\n",
    "                                'POU3F2+CBFA2T3',\n",
    "                                'PTPN12+ZBTB25',\n",
    "                                'SNAI1+DLX2',\n",
    "                                'SNAI1+UBASH3B'],\n",
    "    'SUPPRESSOR': ['CEBPB+PTPN12',\n",
    "                  'CEBPE+CNN1',\n",
    "                  'CEBPE+PTPN12',\n",
    "                  'CNN1+MAPK1',\n",
    "                  'ETS2+CNN1',\n",
    "                  'ETS2+IGDCC3',\n",
    "                  'ETS2+PRTG',\n",
    "                  'FOSB+UBASH3B',\n",
    "                  'IGDCC3+MAPK1',\n",
    "                  'LYL1+CEBPB',\n",
    "                  'MAPK1+PRTG',\n",
    "                  'PTPN12+SNAI1']\n",
    "}"
   ],
   "outputs": []
  },
  {
   "cell_type": "code",
   "execution_count": 37,
   "id": "f85e3ac5-9711-40ec-8760-0cba63a08d00",
   "metadata": {
    "tags": []
   },
   "source": [
    "GIs_fine = {\n",
    "    'NEOMORPHIC': ['CBL+TGFBR2',\n",
    "                  'KLF1+TGFBR2',\n",
    "                  'MAP2K6+SPI1',\n",
    "                  'SAMD1+TGFBR2',\n",
    "                  'TGFBR2+C19orf26',\n",
    "                  'TGFBR2+ETS2',\n",
    "                  'CBL+UBASH3A',\n",
    "                  'CEBPE+KLF1',\n",
    "                  'DUSP9+MAPK1',\n",
    "                  'FOSB+PTPN12',\n",
    "                  'PLK4+STIL',\n",
    "                  'PTPN12+OSR2',\n",
    "                  'ZC3HAV1+CEBPE'],\n",
    "    'ADDITIVE': ['BPGM+SAMD1',\n",
    "                'CEBPB+MAPK1',\n",
    "                'CEBPB+OSR2',\n",
    "                'DUSP9+PRTG',\n",
    "                'FOSB+OSR2',\n",
    "                'IRF1+SET',\n",
    "                'MAP2K3+ELMSAN1',\n",
    "                'MAP2K6+ELMSAN1',\n",
    "                'POU3F2+FOXL2',\n",
    "                'RHOXF2BB+SET',\n",
    "                'SAMD1+PTPN12',\n",
    "                'SAMD1+UBASH3B',\n",
    "                'SAMD1+ZBTB1',\n",
    "                'SGK1+TBX2',\n",
    "                'TBX3+TBX2',\n",
    "                'ZBTB10+SNAI1'],\n",
    "    'EPISTASIS': ['AHR+KLF1',\n",
    "                 'MAPK1+TGFBR2',\n",
    "                 'TGFBR2+IGDCC3',\n",
    "                 'TGFBR2+PRTG',\n",
    "                 'UBASH3B+OSR2',\n",
    "                 'DUSP9+ETS2',\n",
    "                 'KLF1+CEBPA',\n",
    "                 'MAP2K6+IKZF3',\n",
    "                 'ZC3HAV1+CEBPA'],\n",
    "    'REDUNDANT': ['CDKN1C+CDKN1A',\n",
    "                 'MAP2K3+MAP2K6',\n",
    "                 'CEBPB+CEBPA',\n",
    "                 'CEBPE+CEBPA',\n",
    "                 'CEBPE+SPI1',\n",
    "                 'ETS2+MAPK1',\n",
    "                 'FOSB+CEBPE',\n",
    "                 'FOXA3+FOXA1'],\n",
    "    'POTENTIATION': ['CNN1+UBASH3A',\n",
    "                    'ETS2+MAP7D1',\n",
    "                    'FEV+CBFA2T3',\n",
    "                    'FEV+ISL2',\n",
    "                    'FEV+MAP7D1',\n",
    "                    'PTPN12+UBASH3A'],\n",
    "    'SYNERGY_SIMILAR_PHENO':['CBL+CNN1',\n",
    "                            'CBL+PTPN12',\n",
    "                            'CBL+PTPN9',\n",
    "                            'CBL+UBASH3B',\n",
    "                            'FOXA3+FOXL2',\n",
    "                            'FOXA3+HOXB9',\n",
    "                            'FOXL2+HOXB9',\n",
    "                            'UBASH3B+CNN1',\n",
    "                            'UBASH3B+PTPN12',\n",
    "                            'UBASH3B+PTPN9',\n",
    "                            'UBASH3B+ZBTB25'],\n",
    "    'SYNERGY_DISSIMILAR_PHENO': ['AHR+FEV',\n",
    "                                'DUSP9+SNAI1',\n",
    "                                'FOXA1+FOXF1',\n",
    "                                'FOXA1+FOXL2',\n",
    "                                'FOXA1+HOXB9',\n",
    "                                'FOXF1+FOXL2',\n",
    "                                'FOXF1+HOXB9',\n",
    "                                'FOXL2+MEIS1',\n",
    "                                'IGDCC3+ZBTB25',\n",
    "                                'POU3F2+CBFA2T3',\n",
    "                                'PTPN12+ZBTB25',\n",
    "                                'SNAI1+DLX2',\n",
    "                                'SNAI1+UBASH3B'],\n",
    "    'SUPPRESSOR': ['CEBPB+PTPN12',\n",
    "                  'CEBPE+CNN1',\n",
    "                  'CEBPE+PTPN12',\n",
    "                  'CNN1+MAPK1',\n",
    "                  'ETS2+CNN1',\n",
    "                  'ETS2+IGDCC3',\n",
    "                  'ETS2+PRTG',\n",
    "                  'FOSB+UBASH3B',\n",
    "                  'IGDCC3+MAPK1',\n",
    "                  'LYL1+CEBPB',\n",
    "                  'MAPK1+PRTG',\n",
    "                  'PTPN12+SNAI1']\n",
    "}\n"
   ],
   "outputs": []
  }
 ],
 "metadata": {
  "kernelspec": {
   "display_name": "gnew",
   "language": "python",
   "name": "gnew"
  },
  "language_info": {
   "codemirror_mode": {
    "name": "ipython",
    "version": 3
   },
   "file_extension": ".py",
   "mimetype": "text/x-python",
   "name": "python",
   "nbconvert_exporter": "python",
   "pygments_lexer": "ipython3",
   "version": "3.10.10"
  }
 },
 "nbformat": 4,
 "nbformat_minor": 5
}
