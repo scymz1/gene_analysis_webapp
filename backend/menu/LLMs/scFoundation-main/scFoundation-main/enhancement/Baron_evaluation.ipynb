{
 "cells": [
  {
   "cell_type": "code",
   "execution_count": 1,
   "id": "94471a29-2a37-409d-88f4-e3ec7ca7dd41",
   "metadata": {},
   "source": [
    "%pylab inline\n",
    "import pandas as pd\n",
    "import scanpy as sc"
   ],
   "outputs": []
  },
  {
   "cell_type": "code",
   "execution_count": 2,
   "id": "1a0ce42e-16f4-4251-81e0-6e72063a657f",
   "metadata": {},
   "source": [
    "def postprocess(adata,view=True):\n",
    "    sc.pp.normalize_total(adata, target_sum=1e4)\n",
    "    sc.pp.log1p(adata)\n",
    "    sc.pp.highly_variable_genes(adata)\n",
    "    adata.raw = adata\n",
    "    adata = adata[:, adata.var.highly_variable]\n",
    "    print('after select HVG',adata.shape)\n",
    "    sc.pp.scale(adata)\n",
    "    sc.tl.pca(adata)\n",
    "    sc.pp.neighbors(adata)\n",
    "    if view:\n",
    "        sc.tl.tsne(adata)\n",
    "        sc.tl.umap(adata)\n",
    "    return adata"
   ],
   "outputs": []
  },
  {
   "cell_type": "code",
   "execution_count": 3,
   "id": "45302e9b-ae16-45d2-b69b-5aa354bab2f8",
   "metadata": {},
   "source": [
    "def cluster_k_leiden(embadata,n_cluster):\n",
    "    max_steps=120\n",
    "    this_step = 0\n",
    "    this_min = 0\n",
    "    this_max = 2\n",
    "    print('reference cluster number',n_cluster)\n",
    "    while this_step < max_steps:\n",
    "        this_resolution = this_min + ((this_max-this_min)/2)\n",
    "        sc.tl.leiden(embadata,resolution=this_resolution,random_state=42)\n",
    "        this_clusters = embadata.obs['leiden'].nunique()\n",
    "        if this_clusters > n_cluster:\n",
    "            this_max = this_resolution\n",
    "        elif this_clusters < n_cluster:\n",
    "            this_min = this_resolution\n",
    "        else:break\n",
    "        this_step+=1\n",
    "    if this_step==max_steps:\n",
    "        print('Cannot find the number of clusters')\n",
    "        print('Use resolution',this_resolution)\n",
    "    else:\n",
    "        print('use resolution',this_resolution)\n",
    "     # leiden\n",
    "    sc.tl.leiden(embadata,resolution=this_resolution,random_state=42,key_added=f'cluster_{n_cluster}')"
   ],
   "outputs": []
  },
  {
   "cell_type": "code",
   "execution_count": 4,
   "id": "95231db3-8247-4f68-b011-476e8c9ee280",
   "metadata": {},
   "source": [
    "refdf = pd.read_csv('./baron/baron_human_ref_19264_fromsaver.csv',index_col=0)\n",
    "sampledf = pd.read_csv('./baron/baron_human_samp_19264_fromsaver.csv',index_col=0)\n",
    "magicdf = pd.read_csv('./baron/baron_human_magic.csv',index_col=0,sep='\\t').T\n",
    "saverdf = pd.read_csv('./baron/baron_human_saver.csv',index_col=0,sep='\\t').T"
   ],
   "outputs": []
  },
  {
   "cell_type": "code",
   "execution_count": 5,
   "id": "21232595-89d1-4abb-89f4-d7a4635f4452",
   "metadata": {},
   "source": [
    "scimputedf = pd.read_csv('./SAVER-data/baron_human_samp_scimpute.csv',index_col=0,sep='\\t').T"
   ],
   "outputs": []
  },
  {
   "cell_type": "code",
   "execution_count": 6,
   "id": "6bea9d3a-639d-4033-bb75-5b28944434c1",
   "metadata": {},
   "source": [
    "# ref\n",
    "import scanpy as sc\n",
    "tmp2adata = sc.AnnData(refdf)\n",
    "sc.pp.calculate_qc_metrics(tmp2adata,percent_top=None, log1p=False, inplace=True)\n",
    "figsize(4,3)\n",
    "sc.pl.violin(tmp2adata, ['n_genes_by_counts', 'total_counts'],\n",
    "             jitter=0.4, multi_panel=True)"
   ],
   "outputs": []
  },
  {
   "cell_type": "code",
   "execution_count": 8,
   "id": "f36c4ce2-b33a-4f0d-aaf2-f612e6b61c3b",
   "metadata": {},
   "source": [
    "# ref\n",
    "import scanpy as sc\n",
    "tmp2adata = sc.AnnData(sampledf)\n",
    "sc.pp.calculate_qc_metrics(tmp2adata,percent_top=None, log1p=False, inplace=True)\n",
    "figsize(4,3)\n",
    "sc.pl.violin(tmp2adata, ['n_genes_by_counts', 'total_counts'],\n",
    "             jitter=0.4, multi_panel=True)"
   ],
   "outputs": []
  },
  {
   "cell_type": "code",
   "execution_count": 9,
   "id": "04a16079-9f92-41c6-a04e-3b4ac1928e31",
   "metadata": {
    "scrolled": true,
    "tags": []
   },
   "source": [
    "refAdata = sc.AnnData(refdf)\n",
    "refAdata = postprocess(refAdata,True)\n",
    "\n",
    "sampleAdata = sc.AnnData(sampledf)\n",
    "sampleAdata = postprocess(sampleAdata,True)\n",
    "\n",
    "magicAdata = sc.AnnData(magicdf)\n",
    "magicAdata = postprocess(magicAdata,True)\n",
    "\n",
    "saverAdata = sc.AnnData(saverdf)\n",
    "saverAdata = postprocess(saverAdata,True)\n",
    "\n",
    "scimputeAdata = sc.AnnData(scimputedf)\n",
    "scimputeAdata = postprocess(scimputeAdata,True)"
   ],
   "outputs": []
  },
  {
   "cell_type": "code",
   "execution_count": 10,
   "id": "05412654-2815-4030-ad05-ae7c070a1201",
   "metadata": {},
   "source": [
    "sc.tl.leiden(refAdata,resolution=0.6)"
   ],
   "outputs": []
  },
  {
   "cell_type": "code",
   "execution_count": 11,
   "id": "25602592-9211-49b1-9f99-c8829cec8c6b",
   "metadata": {},
   "source": [
    "numcls = refAdata.obs.leiden.unique().shape[0]\n",
    "numcls"
   ],
   "outputs": []
  },
  {
   "cell_type": "code",
   "execution_count": 12,
   "id": "80c34942-9dc5-42e6-96b3-da42d5bca577",
   "metadata": {},
   "source": [
    "sc.pl.umap(refAdata,color=[f'leiden'],size=25,title='Reference',legend_loc='on data')"
   ],
   "outputs": []
  },
  {
   "cell_type": "code",
   "execution_count": 13,
   "id": "a41f2e06-b27d-46be-8134-5f56fb10d1ba",
   "metadata": {},
   "source": [
    "sampledf = pd.read_csv('./baron/baron_human_samp_19264_fromsaver.csv',index_col=0)\n",
    "scviAdata = sc.AnnData(sampledf)\n",
    "\n",
    "sc.pp.highly_variable_genes(\n",
    "    scviAdata,\n",
    "    flavor=\"seurat_v3\",\n",
    "    n_top_genes=2000,\n",
    "    subset=True,\n",
    ")\n",
    "\n",
    "import scvi\n",
    "scvi.model.SCVI.setup_anndata(scviAdata)\n",
    "\n",
    "vae = scvi.model.SCVI(scviAdata)\n",
    "\n",
    "vae.train()\n",
    "\n",
    "scviemb = vae.get_latent_representation()\n",
    "\n",
    "scviAdata = sc.AnnData(pd.DataFrame(scviemb,index=refdf.index))\n",
    "sc.pp.scale(scviAdata)\n",
    "sc.tl.pca(scviAdata)\n",
    "sc.pp.neighbors(scviAdata)\n",
    "\n",
    "sc.tl.umap(scviAdata)\n",
    "sc.tl.tsne(scviAdata)"
   ],
   "outputs": []
  },
  {
   "cell_type": "code",
   "execution_count": 14,
   "id": "39e2aa54-ee54-4293-ba37-7937a2b00354",
   "metadata": {},
   "source": [
    "cluster_k_leiden(sampleAdata,numcls)\n",
    "cluster_k_leiden(magicAdata,numcls)\n",
    "cluster_k_leiden(saverAdata,numcls)\n",
    "cluster_k_leiden(scimputeAdata,numcls)\n",
    "cluster_k_leiden(scviAdata,numcls)"
   ],
   "outputs": []
  },
  {
   "cell_type": "code",
   "execution_count": 15,
   "id": "7ebf9f0f-0492-44c1-91cc-83500ff8fc30",
   "metadata": {},
   "source": [
    "adatalist = [sampleAdata,magicAdata,saverAdata,scimputeAdata,scviAdata]\n",
    "for tmpadata in adatalist:\n",
    "    tmpadata.obs['refleiden']=refAdata.obs['leiden']"
   ],
   "outputs": []
  },
  {
   "cell_type": "markdown",
   "id": "a4f1c953-d0fc-49df-82aa-b2e9d67b94b5",
   "metadata": {},
   "source": [
    "## continous"
   ]
  },
  {
   "cell_type": "code",
   "execution_count": 16,
   "id": "51e81b1c-229b-4034-83c0-a45a3c1e65ec",
   "metadata": {
    "scrolled": true,
    "tags": []
   },
   "source": [
    "from sklearn.metrics.cluster import adjusted_rand_score,normalized_mutual_info_score,davies_bouldin_score,calinski_harabasz_score,silhouette_score\n",
    "\n",
    "scnmi=[]\n",
    "scari=[]\n",
    "scch = []\n",
    "scdb=[]\n",
    "scsil=[]\n",
    "for i in np.arange(1,5.5,0.5):\n",
    "    if i==0:\n",
    "        # imputeemb = np.load('baron/baron_human_samp_19264_fromsaver_50M-0.1B-res_embedding_768.npy')\n",
    "        imputeemb = np.load('baron/baron_human_samp_19264_fromsaver_50M-0.1B-res_embedding.npy')\n",
    "        \n",
    "    else:\n",
    "        # imputeemb = np.load(f'baron/baron_human_samp_19264_fromsaver_50M-0.1B-res_tgthighres{i:.1f}_embedding_768.npy')\n",
    "        imputeemb = np.load(f'baron/baron_human_samp_19264_fromsaver_50M-0.1B-res_fold{i:.1f}_embedding.npy')\n",
    "        \n",
    "    imputeAdata = sc.AnnData(pd.DataFrame(imputeemb,index=refdf.index))\n",
    "    sc.pp.scale(imputeAdata)\n",
    "    sc.tl.pca(imputeAdata)\n",
    "    sc.pp.neighbors(imputeAdata)\n",
    "    # sc.tl.tsne(imputeAdata)\n",
    "    # sc.tl.umap(imputeAdata)\n",
    "    cluster_k_leiden(imputeAdata,numcls)    \n",
    "    imputenmi = normalized_mutual_info_score(refAdata.obs[f'leiden'], imputeAdata.obs[f'cluster_{numcls}']) \n",
    "    imputeari = adjusted_rand_score(refAdata.obs[f'leiden'], imputeAdata.obs[f'cluster_{numcls}']) \n",
    "    scnmi.append(imputenmi)\n",
    "    scari.append(imputeari)\n",
    "    scch.append(calinski_harabasz_score(refAdata.obsm['X_pca'],imputeAdata.obs[f'cluster_{numcls}']))\n",
    "    scdb.append(davies_bouldin_score(refAdata.obsm['X_pca'],imputeAdata.obs[f'cluster_{numcls}']))\n",
    "    scsil.append(silhouette_score(refAdata.obsm['X_pca'],imputeAdata.obs[f'cluster_{numcls}']))"
   ],
   "outputs": []
  },
  {
   "cell_type": "markdown",
   "id": "f4f3342f-54a1-4db5-ae9e-7213ba4070dc",
   "metadata": {},
   "source": [
    "### NMI"
   ]
  },
  {
   "cell_type": "code",
   "execution_count": 17,
   "id": "cd444b3e-aa72-48ad-8cd2-dba6e24d79d0",
   "metadata": {},
   "source": [
    "import seaborn as sns\n",
    "import colorbm as cbm\n",
    "sns.set_palette(sns.color_palette(cbm.pal('npg').as_hex))\n",
    "rcParams['axes.spines.right'] = False\n",
    "rcParams['axes.spines.top'] = False\n",
    "rcParams['axes.spines.left'] = True\n",
    "rcParams['axes.spines.bottom'] = True\n",
    "rcParams['pdf.fonttype'] = 42\n",
    "rcParams['ps.fonttype'] = 42"
   ],
   "outputs": []
  },
  {
   "cell_type": "code",
   "execution_count": 18,
   "id": "fe437018-c228-4a4c-b27e-c1528c2c7405",
   "metadata": {},
   "source": [
    "figsize(3,2)\n",
    "import seaborn as sns\n",
    "scorelist=[]\n",
    "for tmpadata in adatalist:\n",
    "    scorelist.append(normalized_mutual_info_score(tmpadata.obs[f'refleiden'], tmpadata.obs[f'cluster_{numcls}']))\n",
    "\n",
    "axisx = np.arange(1,5.5,0.5)\n",
    "    \n",
    "sns.scatterplot(x=axisx,y=scnmi)\n",
    "sns.lineplot(x=axisx,y=scnmi,label=f'scEPT')\n",
    "sns.lineplot(x=[axisx[0],axisx[-1]],y=[scorelist[0]]*2,label=f'Sample',linestyle='dashed')\n",
    "sns.lineplot(x=[axisx[0],axisx[-1]],y=[scorelist[1]]*2,label=f'MAGIC',linestyle='dashed')\n",
    "sns.lineplot(x=[axisx[0],axisx[-1]],y=[scorelist[2]]*2,label=f'SAVER',linestyle='dashed')\n",
    "sns.lineplot(x=[axisx[0],axisx[-1]],y=[scorelist[3]]*2,label=f'scImpute',linestyle='dashed')\n",
    "sns.lineplot(x=[axisx[0],axisx[-1]],y=[scorelist[4]]*2,label=f'scVI',linestyle='dashed')\n",
    "plt.legend(loc='center right',bbox_to_anchor=(1.4, 0.5))\n",
    "plt.legend([],[], frameon=False)\n",
    "plt.title(f\"NMI\")\n",
    "plt.xlabel(f\"Fold\");\n",
    "# plt.savefig('Baron_NMI_fold.pdf',bbox_inches='tight')"
   ],
   "outputs": []
  },
  {
   "cell_type": "markdown",
   "id": "b6ad07cc-5cda-4ff2-9a8b-1aa6839456d2",
   "metadata": {},
   "source": [
    "### ARI"
   ]
  },
  {
   "cell_type": "code",
   "execution_count": 19,
   "id": "72f836fb-48de-4b21-8065-ae80e47a8a58",
   "metadata": {},
   "source": [
    "figsize(3,2)\n",
    "scorelist=[]\n",
    "for tmpadata in adatalist:\n",
    "    scorelist.append(adjusted_rand_score(tmpadata.obs[f'refleiden'], tmpadata.obs[f'cluster_{numcls}']))\n",
    "\n",
    "sns.scatterplot(x=axisx,y=scari)\n",
    "sns.lineplot(x=axisx,y=scari,label=f'scEPT Highres')\n",
    "sns.lineplot(x=[axisx[0],axisx[-1]],y=[scorelist[0]]*2,label=f'Sample',linestyle='dashed')\n",
    "sns.lineplot(x=[axisx[0],axisx[-1]],y=[scorelist[1]]*2,label=f'MAGIC',linestyle='dashed')\n",
    "sns.lineplot(x=[axisx[0],axisx[-1]],y=[scorelist[2]]*2,label=f'SAVER',linestyle='dashed')\n",
    "sns.lineplot(x=[axisx[0],axisx[-1]],y=[scorelist[3]]*2,label=f'scImpute',linestyle='dashed')\n",
    "sns.lineplot(x=[axisx[0],axisx[-1]],y=[scorelist[4]]*2,label=f'scVI',linestyle='dashed')\n",
    "\n",
    "plt.legend(loc='center right',bbox_to_anchor=(1.4, 0.5))\n",
    "plt.legend([],[], frameon=False)\n",
    "plt.title(f\"ARI\")\n",
    "# plt.xlabel(f\"Added Resolution (Log)\");\n",
    "plt.xlabel(f\"Fold\");\n",
    "# plt.savefig('Baron_ARI_fold.pdf',bbox_inches='tight')"
   ],
   "outputs": []
  },
  {
   "cell_type": "markdown",
   "id": "e18a4ab2-b951-457f-8c51-1ab3f5c7a524",
   "metadata": {},
   "source": [
    "### silhouette_score"
   ]
  },
  {
   "cell_type": "code",
   "execution_count": 20,
   "id": "d452245a-00fa-4270-80fe-9bd1897e7569",
   "metadata": {},
   "source": [
    "figsize(3,2)\n",
    "scorelist=[]\n",
    "for tmpadata in adatalist:\n",
    "    scorelist.append(silhouette_score(refAdata.obsm[f'X_pca'], tmpadata.obs[f'cluster_{numcls}']))\n",
    "# scorelist.append(silhouette_score(adatalist[-1].X, adatalist[-1].obs[f'cluster_{numcls}']))\n",
    "\n",
    "sns.scatterplot(x=axisx,y=scsil)\n",
    "sns.lineplot(x=axisx,y=scsil,label=f'scEPT Highres')\n",
    "sns.lineplot(x=[axisx[0],axisx[-1]],y=[scorelist[0]]*2,label=f'Sample',linestyle='dashed')\n",
    "sns.lineplot(x=[axisx[0],axisx[-1]],y=[scorelist[1]]*2,label=f'MAGIC',linestyle='dashed')\n",
    "sns.lineplot(x=[axisx[0],axisx[-1]],y=[scorelist[2]]*2,label=f'SAVER',linestyle='dashed')\n",
    "sns.lineplot(x=[axisx[0],axisx[-1]],y=[scorelist[3]]*2,label=f'scImpute',linestyle='dashed')\n",
    "sns.lineplot(x=[axisx[0],axisx[-1]],y=[scorelist[4]]*2,label=f'scVI',linestyle='dashed')\n",
    "\n",
    "plt.legend(loc='center right',bbox_to_anchor=(1.4, 0.5))\n",
    "plt.legend([],[], frameon=False)\n",
    "plt.title(f\"Silhouette Score\")\n",
    "# plt.xlabel(f\"Added Resolution (Log)\");\n",
    "plt.xlabel(f\"Fold\");\n",
    "# plt.savefig('Baron_sil_fold.pdf',bbox_inches='tight')"
   ],
   "outputs": []
  },
  {
   "cell_type": "code",
   "execution_count": 21,
   "id": "cdb14eba-5c66-415b-b40e-b22a0cade486",
   "metadata": {},
   "source": [
    "imputeemb = np.load(f'baron/baron_human_samp_19264_fromsaver_50M-0.1B-res_tgthighres5_embedding.npy')\n",
    "imputeAdata = sc.AnnData(pd.DataFrame(imputeemb,index=refdf.index))\n",
    "sc.pp.scale(imputeAdata)\n",
    "sc.tl.pca(imputeAdata)\n",
    "sc.pp.neighbors(imputeAdata)\n",
    "\n",
    "sc.tl.tsne(imputeAdata)\n",
    "sc.tl.umap(imputeAdata)\n",
    "\n",
    "cluster_k_leiden(imputeAdata,numcls)\n",
    "imputeAdata.obs['refleiden']=refAdata.obs['leiden']"
   ],
   "outputs": []
  },
  {
   "cell_type": "code",
   "execution_count": 23,
   "id": "b21d94aa-cfbb-436a-abd2-0f423bae4692",
   "metadata": {},
   "source": [
    "namelist = ['Sample','MAGIC','SAVER','scImpute','scVI','scFoundation']"
   ],
   "outputs": []
  },
  {
   "cell_type": "code",
   "execution_count": 28,
   "id": "2c0b4200-b819-478f-ac77-3077f4538d5e",
   "metadata": {},
   "source": [
    "sns.set_palette(sns.color_palette(cbm.pal('npg').as_hex))\n",
    "fig, axes = plt.subplots(2,7,figsize=(25,6))\n",
    "fig.suptitle(f'Baron human dataset from SAVER',fontsize=20)\n",
    "\n",
    "sc.pl.umap(refAdata,color=[f'leiden'],size=25,ax=axes[0][0],show=False,title='Ref cluster',legend_loc='on data',legend_fontweight='black',legend_fontsize='large',frameon=False)\n",
    "sc.pl.umap(sampleAdata,color=[f'leiden'],size=25,ax=axes[0][1],show=False,title='Sample',legend_loc='on data',palette=refAdata.uns['leiden_colors'],legend_fontweight='black',legend_fontsize='x-large',frameon=True)\n",
    "sc.pl.umap(magicAdata,color=[f'leiden'],size=25,ax=axes[0][2],show=False,title='Magic',legend_loc='on data',palette=refAdata.uns['leiden_colors'],legend_fontweight='black',legend_fontsize='x-large',frameon=True)\n",
    "sc.pl.umap(saverAdata,color=[f'leiden'],size=25,ax=axes[0][3],show=False,title='Saver',legend_loc='on data',palette=refAdata.uns['leiden_colors'],legend_fontweight='black',legend_fontsize='x-large',frameon=True)\n",
    "sc.pl.umap(scimputeAdata,color=[f'leiden'],size=25,ax=axes[0][4],show=False,title='scImpute',legend_loc='on data',palette=refAdata.uns['leiden_colors'],legend_fontweight='black',legend_fontsize='x-large',frameon=True)\n",
    "sc.pl.umap(scviAdata,color=[f'leiden'],size=25,ax=axes[0][5],show=False,title='scVI',legend_loc='on data',palette=refAdata.uns['leiden_colors'],legend_fontweight='black',legend_fontsize='x-large',frameon=True)\n",
    "sc.pl.umap(imputeAdata,color=[f'leiden'],size=25,ax=axes[0][6],show=False,title='scEPT',legend_loc='on data',palette=refAdata.uns['leiden_colors'],legend_fontweight='black',legend_fontsize='x-large',frameon=True)\n",
    "\n",
    "\n",
    "sc.pl.umap(refAdata,color=[f'leiden'],size=25,ax=axes[1][0],show=False,title='Reference',legend_loc='on data')\n",
    "for name,tmpadata in zip(namelist,adatalist):\n",
    "    refAdata.obs['tmpcls']=tmpadata.obs[f'cluster_{numcls}']\n",
    "    sc.pl.umap(refAdata,color=[f'tmpcls'],size=25,ax=axes[1][namelist.index(name)+1],show=False,title=name,legend_loc='on data',legend_fontweight='black',legend_fontsize='x-large',frameon=True,palette=refAdata.uns['leiden_colors'])\n",
    "sc.pl.umap(refAdata,color=[f'leiden'],size=25,ax=axes[1][6],show=False,title='Reference',legend_loc='on data',frameon=True,palette=refAdata.uns['leiden_colors'])"
   ],
   "outputs": []
  },
  {
   "cell_type": "code",
   "execution_count": null,
   "id": "bbb73d02-bf5e-40a9-8a86-7492cf15fa07",
   "metadata": {},
   "source": [],
   "outputs": []
  },
  {
   "cell_type": "code",
   "execution_count": null,
   "id": "0987cc61-06e7-463b-ade3-5614ff059b3d",
   "metadata": {},
   "source": [],
   "outputs": []
  },
  {
   "cell_type": "code",
   "execution_count": null,
   "id": "09039aac-d4b6-4011-a4fe-11f7b39277f6",
   "metadata": {},
   "source": [],
   "outputs": []
  }
 ],
 "metadata": {
  "kernelspec": {
   "display_name": "scvi",
   "language": "python",
   "name": "scvi"
  },
  "language_info": {
   "codemirror_mode": {
    "name": "ipython",
    "version": 3
   },
   "file_extension": ".py",
   "mimetype": "text/x-python",
   "name": "python",
   "nbconvert_exporter": "python",
   "pygments_lexer": "ipython3",
   "version": "3.10.4"
  }
 },
 "nbformat": 4,
 "nbformat_minor": 5
}
