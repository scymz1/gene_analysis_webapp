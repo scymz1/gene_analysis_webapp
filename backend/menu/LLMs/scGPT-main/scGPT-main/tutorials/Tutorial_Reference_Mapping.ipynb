{
 "cells": [
  {
   "cell_type": "markdown",
   "metadata": {},
   "source": [
    "# Reference Mapping Using cell embedding by pretrained scGPT model\n",
    "\n",
    "In this tutorial, we demonstrate how to use the scGPT model to embed cells and map them to referenced embeddings. Then the meta labels of the reference cells, such as cell type or disease conditions, can be propagated to the query cells. Particularly, we use the `scGPT_human` model to provide embedings out of the box. In this zero-shot settings, no further training is needed. All the workflow can be completed pretty fast and we observed considerable accuracy.\n",
    "\n",
    "The pancreas dataset is used in this example. Please download it from https://drive.google.com/drive/folders/1s9XjcSiPC-FYV3VeHrEa7SeZetrthQVV?usp=sharing.\n",
    "\n",
    "We provide two mode of reference mapping in the following:\n",
    "\n",
    "1. **Using a customized reference dataset with provided annotations**. Mapping unkown cells in a query set to this reference dataset. This illustrated the use case for users who already have annotations for similar samples and want to quickly transfer the annotation to the newly collected samples.\n",
    "\n",
    "2. **Using our previously collected over 33 million cells from CellXGene as reference**. Mapping unkown cells in a query set to this reference atlas. This illustrates a generic use case for users who want to map their own data to a large reference atlas. For example, this can be a fast first step to understand the cell composition of a newly collected samples.\n",
    "\n",
    "According to your use case, you may only need **apply one of the two modes**.\n",
    "\n",
    "**Note**: please note that the reference mapping is a new experimental feature.\n"
   ]
  },
  {
   "cell_type": "code",
   "execution_count": 1,
   "metadata": {},
   "source": [
    "import sys\n",
    "from pathlib import Path\n",
    "\n",
    "import numpy as np\n",
    "import pandas as pd\n",
    "from scipy.stats import mode\n",
    "import scanpy as sc\n",
    "import sklearn\n",
    "import warnings\n",
    "\n",
    "sys.path.insert(0, \"../\")\n",
    "import scgpt as scg\n",
    "\n",
    "# extra dependency for similarity search\n",
    "try:\n",
    "    import faiss\n",
    "\n",
    "    faiss_imported = True\n",
    "except ImportError:\n",
    "    faiss_imported = False\n",
    "    print(\n",
    "        \"faiss not installed! We highly recommend installing it for fast similarity search.\"\n",
    "    )\n",
    "    print(\"To install it, see https://github.com/facebookresearch/faiss/wiki/Installing-Faiss\")\n",
    "\n",
    "warnings.filterwarnings(\"ignore\", category=ResourceWarning)"
   ],
   "outputs": []
  },
  {
   "cell_type": "markdown",
   "metadata": {},
   "source": [
    "## Referrence mapping using a customized reference dataset"
   ]
  },
  {
   "cell_type": "code",
   "execution_count": 2,
   "metadata": {},
   "source": [
    "model_dir = Path(\"../save/scGPT_human\")\n",
    "adata = sc.read_h5ad(\"../data/annotation_pancreas/demo_train.h5ad\")\n",
    "cell_type_key = \"Celltype\"\n",
    "gene_col = \"index\""
   ],
   "outputs": []
  },
  {
   "cell_type": "code",
   "execution_count": 3,
   "metadata": {},
   "source": [
    "ref_embed_adata = scg.tasks.embed_data(\n",
    "    adata,\n",
    "    model_dir,\n",
    "    gene_col=gene_col,\n",
    "    obs_to_save=cell_type_key,  # optional arg, only for saving metainfo\n",
    "    batch_size=64,\n",
    "    return_new_adata=True,\n",
    ")\n",
    "\n",
    "# # running on cpu, not recommended since it is slow\n",
    "# ref_embed_adata = scg.tasks.embed_data(\n",
    "#     adata,\n",
    "#     model_dir,\n",
    "#     gene_col=gene_col,\n",
    "#     obs_to_save=cell_type_key,\n",
    "#     batch_size=64,\n",
    "#     device=\"cpu\",\n",
    "#     use_fast_transformer=False,\n",
    "#     return_new_adata=True,\n",
    "# )\n",
    "\n",
    "# Optional step to visualize the reference dataset using the embeddings\n",
    "sc.pp.neighbors(ref_embed_adata, use_rep=\"X\")\n",
    "sc.tl.umap(ref_embed_adata)\n",
    "sc.pl.umap(ref_embed_adata, color=cell_type_key, frameon=False, wspace=0.4)"
   ],
   "outputs": []
  },
  {
   "cell_type": "code",
   "execution_count": 4,
   "metadata": {},
   "source": [
    "test_adata = sc.read_h5ad(\"../data/annotation_pancreas/demo_test.h5ad\")\n",
    "test_embed_adata = scg.tasks.embed_data(\n",
    "    test_adata,\n",
    "    model_dir,\n",
    "    gene_col=gene_col,\n",
    "    obs_to_save=cell_type_key,  # optional arg, only for saving metainfo\n",
    "    batch_size=64,\n",
    "    return_new_adata=True,\n",
    ")\n",
    "\n",
    "# # running on cpu\n",
    "# test_embed_adata = scg.tasks.embed_data(\n",
    "#     test_adata,\n",
    "#     model_dir,\n",
    "#     gene_col=gene_col,\n",
    "#     obs_to_save=cell_type_key,\n",
    "#     batch_size=64,\n",
    "#     device=\"cpu\",\n",
    "#     use_fast_transformer=False,\n",
    "#     return_new_adata=True,\n",
    "# )\n",
    "\n",
    "# # optional step to visualize the dataset\n",
    "# sc.pp.neighbors(test_embed_adata, use_rep=\"X\")\n",
    "# sc.tl.umap(test_embed_adata)\n",
    "# sc.pl.umap(test_embed_adata, color=cell_type_key, frameon=False, wspace=0.4)"
   ],
   "outputs": []
  },
  {
   "cell_type": "code",
   "execution_count": 5,
   "metadata": {},
   "source": [
    "# Those functions are only used when faiss is not installed\n",
    "def l2_sim(a, b):\n",
    "    sims = -np.linalg.norm(a - b, axis=1)\n",
    "    return sims\n",
    "\n",
    "def get_similar_vectors(vector, ref, top_k=10):\n",
    "        # sims = cos_sim(vector, ref)\n",
    "        sims = l2_sim(vector, ref)\n",
    "        \n",
    "        top_k_idx = np.argsort(sims)[::-1][:top_k]\n",
    "        return top_k_idx, sims[top_k_idx]"
   ],
   "outputs": []
  },
  {
   "cell_type": "code",
   "execution_count": 6,
   "metadata": {},
   "source": [
    "ref_cell_embeddings = ref_embed_adata.X\n",
    "test_emebd = test_embed_adata.X\n",
    "\n",
    "k = 10  # number of neighbors\n",
    "\n",
    "if faiss_imported:\n",
    "    # Declaring index, using most of the default parameters from\n",
    "    index = faiss.IndexFlatL2(ref_cell_embeddings.shape[1])\n",
    "    index.add(ref_cell_embeddings)\n",
    "\n",
    "    # Query dataset, k - number of closest elements (returns 2 numpy arrays)\n",
    "    distances, labels = index.search(test_emebd, k)\n",
    "\n",
    "idx_list=[i for i in range(test_emebd.shape[0])]\n",
    "preds = []\n",
    "for k in idx_list:\n",
    "    if faiss_imported:\n",
    "        idx = labels[k]\n",
    "    else:\n",
    "        idx, sim = get_similar_vectors(test_emebd[k][np.newaxis, ...], ref_cell_embeddings, k)\n",
    "    pred = ref_embed_adata.obs[cell_type_key][idx].value_counts()\n",
    "    preds.append(pred.index[0])\n",
    "gt = test_adata.obs[cell_type_key].to_numpy()\n",
    "\n",
    "sklearn.metrics.accuracy_score(gt, preds)"
   ],
   "outputs": []
  },
  {
   "cell_type": "code",
   "execution_count": 7,
   "metadata": {},
   "source": [
    "# # optionally, the built index can be saved/loaded for future use\n",
    "# faiss.write_index(index, \"index.faiss\")\n",
    "# index = faiss.read_index(\"index.faiss\")"
   ],
   "outputs": []
  },
  {
   "cell_type": "markdown",
   "metadata": {},
   "source": [
    "## Reference mapping using the CellXGene atlas\n",
    "\n",
    "We have previously built the index for all the cells in normal or cancer samples, over 33 million cells in total. You can find the code to build the index at [build_atlas_index_faiss.py](build_atlas_index_faiss.py).\n",
    "We applied careful tuning to eventually well balance between the accuracy and efficiency. Now the actual building process takes less than 3 minutes and we choose to use only 16 bytes to store the vector per cell, which leads to 808 MB for the whole index of all the millions of cells. Please download the faiss index folder from https://drive.google.com/drive/folders/1q14U50SNg5LMjlZ9KH-n-YsGRi8zkCbe?usp=sharing.\n",
    "\n",
    "Faiss is required to use the index. Please install it by following the instructions at https://github.com/facebookresearch/faiss/wiki/Installing-Faiss"
   ]
  },
  {
   "cell_type": "code",
   "execution_count": 8,
   "metadata": {},
   "source": [
    "from build_atlas_index_faiss import load_index, vote"
   ],
   "outputs": []
  },
  {
   "cell_type": "code",
   "execution_count": 9,
   "metadata": {},
   "source": [
    "use_gpu = faiss.get_num_gpus() > 0\n",
    "index, meta_labels = load_index(\n",
    "    index_dir=\"path_to_faiss_index_folder\",\n",
    "    use_config_file=False,\n",
    "    use_gpu=use_gpu,\n",
    ")\n",
    "print(f\"Loaded index with {index.ntotal} cells\")\n"
   ],
   "outputs": []
  },
  {
   "cell_type": "markdown",
   "metadata": {},
   "source": [
    "The search runs super fast, especially on GPU. Here the similarity search for 4,000 query cells within the whole reference of millions should take around 7 second on CPU and 0.1 second on GPU."
   ]
  },
  {
   "cell_type": "code",
   "execution_count": 10,
   "metadata": {},
   "source": [
    "%%time\n",
    "k = 50\n",
    "# test with the first 100 cells\n",
    "distances, idx = index.search(test_emebd, k)"
   ],
   "outputs": []
  },
  {
   "cell_type": "markdown",
   "metadata": {},
   "source": [
    "Here, we propagate the previously saved cell type labels, `meta_label`, from CellXGene annotations by majority voting."
   ]
  },
  {
   "cell_type": "code",
   "execution_count": 11,
   "metadata": {},
   "source": [
    "predict_labels = meta_labels[idx]\n",
    "# from scipy.stats import mode\n",
    "from tqdm import tqdm\n",
    "\n",
    "voting = []\n",
    "for preds in tqdm(predict_labels):\n",
    "    voting.append(vote(preds, return_prob=False)[0])\n",
    "voting = np.array(voting)"
   ],
   "outputs": []
  },
  {
   "cell_type": "code",
   "execution_count": 18,
   "metadata": {},
   "source": [
    "print(gt[:10])   # Original labels in the query dataset, used for evaluation\n",
    "print(voting[:10])  # Propagated CellXGene labels"
   ],
   "outputs": []
  },
  {
   "cell_type": "markdown",
   "metadata": {},
   "source": [
    "Currently, we found the CellXGene labels are scattered in different levels of the cell type hieratchy, with more generic cell types such as stromal cells in great abundance. The difference in the number of cells in each cell type may lead to less useful annotations, even though the similarity search itself may be sufficiently accurate. We are working on a better way to curate the cell type labels in a consistent way. Our current idea is plan to apply hierarchical predictions and provide a spectrum of cell type labels for each cell, from generic to more specific cell types.\n",
    "\n",
    "You may see the proportion of cell types in the meta labels by running\n",
    "```python\n",
    "from build_atlas_index_faiss import compute_category_proportion\n",
    "compute_category_proportion(meta_labels)\n",
    "```\n",
    "\n",
    "Meanwhile, the propagation of major cell types is usually more accurate. An example with endothelial cells is provided as follows. "
   ]
  },
  {
   "cell_type": "code",
   "execution_count": 19,
   "metadata": {},
   "source": [
    "# find the endothelial cells\n",
    "ids_m = np.where(gt == \"endothelial\")[0]\n",
    "print(f\"Found {len(ids_m)} endothelial cells\")\n",
    "print(f\"Predicted cell types: {voting[ids_m]}\")\n",
    "print(f\"Annotated cell types: {gt[ids_m]}\")"
   ],
   "outputs": []
  },
  {
   "cell_type": "code",
   "execution_count": null,
   "metadata": {},
   "source": [],
   "outputs": []
  }
 ],
 "metadata": {
  "kernelspec": {
   "display_name": "Python 3 (ipykernel)",
   "language": "python",
   "name": "python3"
  },
  "language_info": {
   "codemirror_mode": {
    "name": "ipython",
    "version": 3
   },
   "file_extension": ".py",
   "mimetype": "text/x-python",
   "name": "python",
   "nbconvert_exporter": "python",
   "pygments_lexer": "ipython3",
   "version": "3.7.13"
  },
  "orig_nbformat": 4
 },
 "nbformat": 4,
 "nbformat_minor": 2
}
