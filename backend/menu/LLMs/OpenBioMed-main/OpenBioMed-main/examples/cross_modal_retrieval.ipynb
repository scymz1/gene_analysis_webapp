{
 "cells": [
  {
   "cell_type": "code",
   "execution_count": 1,
   "metadata": {},
   "source": [
    "import os.path as osp\n",
    "import sys\n",
    "path = osp.dirname(osp.abspath(''))\n",
    "sys.path.append(path)\n",
    "sys.path.append(osp.join(path, \"open_biomed\"))\n",
    "path"
   ],
   "outputs": []
  },
  {
   "cell_type": "code",
   "execution_count": 2,
   "metadata": {},
   "source": [
    "smis = [\n",
    "    \"CCCC[Si](Cl)(Cl)Cl\", \n",
    "    \"CO[C@@]1([C@@H]2N(C1=O)C(=C(CS2)COC(=O)N)C(=O)[O-])NC(=O)CC3=CC=CS3\", \n",
    "    \"CCCCC/C=C\\C/C=C\\C/C=C\\C/C=C\\CCCC(=O)C(F)(F)F\",\n",
    "]\n",
    "texts = [\n",
    "    \"it appears as a colorless liquid with a pungent odor. Flash point 126Â°F. Corrosive to metals and skin. Used to make various silicon containing compounds.\",\n",
    "    \"it is a cephalosporin carboxylic acid anion having methoxy, 2-thienylacetamido and carbamoyloxymethyl side-groups, formed by proton loss from the carboxy group of the semisynthetic cephamycin antibiotic cefoxitin. It is a conjugate base of a cefoxitin.\",\n",
    "    \"it is a fatty acid derivative that is arachidonic acid in which the OH part of the carboxy group has been replaced by a trifluoromethyl group It has a role as an EC 3.1.1.4 (phospholipase A2) inhibitor. It is an organofluorine compound, a ketone, an olefinic compound and a fatty acid derivative. It derives from an arachidonic acid.\",\n",
    "]\n",
    "\n",
    "from rdkit import Chem\n",
    "from rdkit.Chem import Draw\n",
    "mols = [Chem.MolFromSmiles(smi) for smi in smis]\n",
    "Draw.MolsToGridImage(mols, legends=[\"Butyltrichlorosilane\", \"Mefoxin\", \"Aacocf3\"], molsPerRow=3, subImgSize=(512, 512))\n"
   ],
   "outputs": []
  },
  {
   "cell_type": "code",
   "execution_count": 3,
   "metadata": {},
   "source": [
    "# prepare data\n",
    "import json\n",
    "from open_biomed.utils.data_utils import DataProcessorFast\n",
    "from open_biomed.utils import fix_path_in_config\n",
    "\n",
    "config = json.load(open(\"../configs/mtr/molfm.json\", \"r\"))\n",
    "fix_path_in_config(config, path)\n",
    "print(\"Config: \", config)\n",
    "processor = DataProcessorFast(entity_type=\"molecule\", config=config[\"data\"][\"mol\"])\n",
    "processor.featurizer.set_mol2text_dict(dict(zip(smis, texts)))\n",
    "mols = processor(smis)"
   ],
   "outputs": []
  },
  {
   "cell_type": "code",
   "execution_count": 4,
   "metadata": {},
   "source": [
    "import torch\n",
    "from open_biomed.models.multimodal import MolFM\n",
    "model = MolFM(config[\"network\"])\n",
    "state_dict = torch.load(\"../ckpts/fusion_ckpts/molfm.pth\", map_location=\"cpu\")[\"model\"]\n",
    "model.load_state_dict(state_dict)\n",
    "model.eval()\n",
    "\n",
    "with torch.no_grad():\n",
    "    structure_feats = model.encode_mol(mols[\"structure\"], proj=True)\n",
    "    text_feats = model.encode_text(mols[\"text\"])\n",
    "\n",
    "for i in range(len(smis)):\n",
    "    similarity = torch.cosine_similarity(structure_feats[i], text_feats)\n",
    "    best = torch.argmax(similarity).item()\n",
    "    print(\"Similarity for \", smis[i], \"is\", similarity.numpy(), \", Retrieved text is \\\"\", texts[best], \"\\\"\")"
   ],
   "outputs": []
  }
 ],
 "metadata": {
  "kernelspec": {
   "display_name": "Python 3.9.17 ('biomedgpt')",
   "language": "python",
   "name": "python3"
  },
  "language_info": {
   "codemirror_mode": {
    "name": "ipython",
    "version": 3
   },
   "file_extension": ".py",
   "mimetype": "text/x-python",
   "name": "python",
   "nbconvert_exporter": "python",
   "pygments_lexer": "ipython3",
   "version": "3.9.17"
  },
  "orig_nbformat": 4,
  "vscode": {
   "interpreter": {
    "hash": "c9acc99eda29845eb06fd58aaf0629edb79f58e739da13f56214d4672f20527d"
   }
  }
 },
 "nbformat": 4,
 "nbformat_minor": 2
}
