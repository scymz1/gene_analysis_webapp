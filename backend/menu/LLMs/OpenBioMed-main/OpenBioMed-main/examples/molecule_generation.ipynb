{
 "cells": [
  {
   "cell_type": "code",
   "execution_count": 1,
   "metadata": {},
   "source": [
    "import os.path as osp\n",
    "import sys\n",
    "path = osp.dirname(osp.abspath(''))\n",
    "sys.path.append(path)\n",
    "sys.path.append(osp.join(path, \"open_biomed\"))\n",
    "path"
   ],
   "outputs": []
  },
  {
   "cell_type": "code",
   "execution_count": 2,
   "metadata": {},
   "source": [
    "# load data processor\n",
    "import json\n",
    "from open_biomed.utils.data_utils import DataProcessorFast\n",
    "from open_biomed.utils import fix_path_in_config\n",
    "from open_biomed.models.task_model.text2smi_model import Text2SMILESModel\n",
    "\n",
    "config = json.load(open(\"../configs/text2smi/molt5.json\", \"r\"))\n",
    "fix_path_in_config(config, path)\n",
    "print(\"Config: \", config)\n",
    "processor = DataProcessorFast(entity_type=\"text\", config=config[\"data\"][\"mol\"][\"featurizer\"][\"text\"])\n",
    "\n",
    "# load model\n",
    "model = Text2SMILESModel(config[\"network\"])\n",
    "model = model.eval()\n"
   ],
   "outputs": []
  },
  {
   "cell_type": "code",
   "execution_count": 3,
   "metadata": {},
   "source": [
    "import torch\n",
    "from rdkit import Chem\n",
    "from rdkit.Chem import Draw\n",
    "\n",
    "input_text = \"The molecule is a trihydroxyflavone that is flavone with hydroxy groups at positions 5, 7 and 4' and methoxy groups at positions 3' and 6. Isolated from Salvia tomentosa and Artemisia asiatica, it exhibits anti-allergic, anti-inflammatory and apoptosis inducing activties. It has a role as a metabolite, an anti-inflammatory agent, an apoptosis inducer, an anti-allergic agent and an antineoplastic agent. It is a trihydroxyflavone and a dimethoxyflavone.\"\n",
    "print(input_text)\n",
    "input = processor(input_text)\n",
    "with torch.no_grad():\n",
    "    smiles = model.decode({\"text\": input}, num_beams=5, max_length=512)[0]\n",
    "print(\"Generated molecule:\")\n",
    "Draw.MolsToGridImage(\n",
    "    [Chem.MolFromSmiles(smiles)], \n",
    "    molsPerRow=1, \n",
    "    subImgSize=(512, 512)\n",
    ")"
   ],
   "outputs": []
  }
 ],
 "metadata": {
  "kernelspec": {
   "display_name": "Python 3.9.17 ('biomedgpt')",
   "language": "python",
   "name": "python3"
  },
  "language_info": {
   "codemirror_mode": {
    "name": "ipython",
    "version": 3
   },
   "file_extension": ".py",
   "mimetype": "text/x-python",
   "name": "python",
   "nbconvert_exporter": "python",
   "pygments_lexer": "ipython3",
   "version": "3.9.17"
  },
  "orig_nbformat": 4,
  "vscode": {
   "interpreter": {
    "hash": "c9acc99eda29845eb06fd58aaf0629edb79f58e739da13f56214d4672f20527d"
   }
  }
 },
 "nbformat": 4,
 "nbformat_minor": 2
}
