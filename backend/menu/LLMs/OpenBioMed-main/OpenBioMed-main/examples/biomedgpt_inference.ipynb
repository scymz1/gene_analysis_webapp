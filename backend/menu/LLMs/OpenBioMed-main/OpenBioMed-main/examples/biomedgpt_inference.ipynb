{
 "cells": [
  {
   "cell_type": "code",
   "execution_count": 1,
   "metadata": {},
   "source": [
    "import os.path as osp\n",
    "import sys\n",
    "path = osp.dirname(osp.abspath(''))\n",
    "sys.path.append(path)\n",
    "sys.path.append(osp.join(path, \"open_biomed\"))\n",
    "path"
   ],
   "outputs": []
  },
  {
   "cell_type": "markdown",
   "metadata": {},
   "source": [
    "BioMedGPT-10B is composed of a language model (BioMedGPT-LM-7B), a molecule encoder (GraphMVP), a protein encoder (ESM2-3B) and two modality adaptors. For inference, install `config.json`, `special_token_map.json`, `tokenizer_config.json`, `tokenizer.json`, `tokenizer.model` for BioMedGPT-LM-7B [here](https://huggingface.co/PharMolix/BioMedGPT-LM-7B) and put them under `OpenBioMed/ckpts/text_ckpts/biomedgpt-lm-7b`. Install `config.json`, `tokenizer_config.json`, `vocab.txt` for ESM2-3B [here](https://huggingface.co/facebook/esm2_t36_3B_UR50D) and put them under `OpenBioMed/ckpts/text_ckpts/biomedgpt-lm-7b`. Approximately 20GB GPU Memory is required to load BioMedGPT-10B with fp16."
   ]
  },
  {
   "cell_type": "code",
   "execution_count": 2,
   "metadata": {},
   "source": [
    "# load biomedgpt model\n",
    "import json\n",
    "import torch\n",
    "from open_biomed.utils import fix_path_in_config\n",
    "from open_biomed.models.multimodal import BioMedGPTV\n",
    "\n",
    "config = json.load(open(\"../configs/encoders/multimodal/biomedgptv.json\", \"r\"))\n",
    "fix_path_in_config(config, path)\n",
    "print(\"Config: \", config)\n",
    "\n",
    "device = torch.device(\"cuda:0\")\n",
    "config[\"network\"][\"device\"] = device\n",
    "model = BioMedGPTV(config[\"network\"])\n",
    "ckpt = torch.load(\"../ckpts/fusion_ckpts/biomedgpt_10b.pth\")\n",
    "model.load_state_dict(ckpt)\n",
    "model = model.to(device)\n",
    "model.eval()\n",
    "print(\"Finish loading model\")"
   ],
   "outputs": []
  },
  {
   "cell_type": "code",
   "execution_count": 5,
   "metadata": {},
   "source": [
    "# chat\n",
    "from open_biomed.utils.chat_utils import Conversation\n",
    "\n",
    "prompt_sys = \"You are working as an excellent assistant in chemistry and molecule discovery. \" + \\\n",
    "             \"Below a human expert gives the representation of a molecule or a protein. Answer questions about it. \"\n",
    "chat = Conversation(\n",
    "    model=model, \n",
    "    processor_config=config[\"data\"], \n",
    "    device=device,\n",
    "    system=prompt_sys,\n",
    "    roles=(\"Human\", \"Assistant\"),\n",
    "    sep=\"###\",\n",
    "    max_length=2048\n",
    ")\n",
    "chat.append_molecule(\"CC(=CCC1=CC(=CC(=C1O)CC=C(C)C)/C=C/C(=O)C2=C(C=C(C=C2)O)O)C\")\n",
    "question = \"Please describe this molecule.\"\n",
    "print(\"Human: \", question)\n",
    "chat.ask(question)\n",
    "print(\"Assistant: \", chat.answer()[0])"
   ],
   "outputs": []
  },
  {
   "cell_type": "code",
   "execution_count": 6,
   "metadata": {},
   "source": [
    "chat.reset()\n",
    "chat.append_protein(\"MAKEDTLEFPGVVKELLPNATFRVELDNGHELIAVMAGKMRKNRIRVLAGDKVQVEMTPYDLSKGRINYRFK\")\n",
    "question = \"What is the function of this protein?\"\n",
    "print(\"Human: \", question)\n",
    "chat.ask(question)\n",
    "print(\"Assistant: \", chat.answer()[0])"
   ],
   "outputs": []
  }
 ],
 "metadata": {
  "kernelspec": {
   "display_name": "Python 3.9.17 ('biomedgpt')",
   "language": "python",
   "name": "python3"
  },
  "language_info": {
   "codemirror_mode": {
    "name": "ipython",
    "version": 3
   },
   "file_extension": ".py",
   "mimetype": "text/x-python",
   "name": "python",
   "nbconvert_exporter": "python",
   "pygments_lexer": "ipython3",
   "version": "3.9.17"
  },
  "orig_nbformat": 4,
  "vscode": {
   "interpreter": {
    "hash": "c9acc99eda29845eb06fd58aaf0629edb79f58e739da13f56214d4672f20527d"
   }
  }
 },
 "nbformat": 4,
 "nbformat_minor": 2
}
