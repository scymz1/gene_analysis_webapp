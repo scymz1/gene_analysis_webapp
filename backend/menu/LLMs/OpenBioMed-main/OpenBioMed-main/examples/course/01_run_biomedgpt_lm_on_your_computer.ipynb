{
 "cells": [
  {
   "cell_type": "markdown",
   "id": "7ea5292c-e206-4433-bdf9-d752515514be",
   "metadata": {},
   "source": [
    "### 以在mac上运行BioMedGPT-LM-7B为例"
   ]
  },
  {
   "cell_type": "raw",
   "id": "6dce2078-793c-42b9-b0e6-05f0ee5fa5bb",
   "metadata": {},
   "source": [
    "# 在终端创建并激活环境\n",
    "conda create -n biomedgpt python=3.10\n",
    "conda activate biomedgpt"
   ]
  },
  {
   "cell_type": "code",
   "execution_count": 1,
   "id": "291ba1ca-10fe-43c8-82d8-8e58e1318277",
   "metadata": {},
   "source": [
    "# 安装依赖\n",
    "!pip install torch torchvision torchaudio\n",
    "!pip install transformers"
   ],
   "outputs": []
  },
  {
   "cell_type": "code",
   "execution_count": 2,
   "id": "ab6f1cd4-16c6-4731-9c9b-e45c6d60ca90",
   "metadata": {},
   "source": [
    "import transformers  # 导入transformers"
   ],
   "outputs": []
  },
  {
   "cell_type": "code",
   "execution_count": 3,
   "id": "48de67b2-6e9f-4c91-a744-75a13cf68e65",
   "metadata": {},
   "source": [
    "# 加载模型\n",
    "model_path = '/Users/a/BioMedGPT-LM-7B'  # 模型和tokenizer文件存放路径\n",
    "model = transformers.AutoModelForCausalLM.from_pretrained(model_path)\n",
    "#print(model)"
   ],
   "outputs": []
  },
  {
   "cell_type": "code",
   "execution_count": 12,
   "id": "7babf3bc-6ded-4970-9fb6-85376192d048",
   "metadata": {},
   "source": [
    "model.config"
   ],
   "outputs": []
  },
  {
   "cell_type": "code",
   "execution_count": 13,
   "id": "3976c018-ab5b-4937-9f84-9f3f59ded81d",
   "metadata": {},
   "source": [
    "# 加载模型对应的tokenizer\n",
    "tokenizer = transformers.AutoTokenizer.from_pretrained(model_path)"
   ],
   "outputs": []
  },
  {
   "cell_type": "code",
   "execution_count": 14,
   "id": "c83798aa-daaf-44e5-8848-75ce97d6de66",
   "metadata": {},
   "source": [
    "text = [\"What's the function of Aspirin?\"]\n",
    "# 使用tokenizer处理文本\n",
    "input = tokenizer(text,\n",
    "              truncation=True,\n",
    "              return_tensors=\"pt\")"
   ],
   "outputs": []
  },
  {
   "cell_type": "code",
   "execution_count": 15,
   "id": "62e42d90-e5de-468e-a2ee-9cc239b2f9af",
   "metadata": {
    "scrolled": true
   },
   "source": [
    "input"
   ],
   "outputs": []
  },
  {
   "cell_type": "code",
   "execution_count": 18,
   "id": "2fc03431-9b1a-404f-82c7-091918f39fd9",
   "metadata": {
    "scrolled": true
   },
   "source": [
    "output = model.generate(inputs=input.input_ids, max_new_tokens=128, early_stopping=True)"
   ],
   "outputs": []
  },
  {
   "cell_type": "code",
   "execution_count": 19,
   "id": "e948f227-ea3b-42ce-8d66-f21450035a68",
   "metadata": {},
   "source": [
    "# 解码成文字\n",
    "tokenizer.decode(output[0])"
   ],
   "outputs": []
  },
  {
   "cell_type": "code",
   "execution_count": null,
   "id": "a2af8a41-a473-45cf-9836-c2c8a22be2de",
   "metadata": {},
   "source": [],
   "outputs": []
  }
 ],
 "metadata": {
  "kernelspec": {
   "display_name": "Python 3 (ipykernel)",
   "language": "python",
   "name": "python3"
  },
  "language_info": {
   "codemirror_mode": {
    "name": "ipython",
    "version": 3
   },
   "file_extension": ".py",
   "mimetype": "text/x-python",
   "name": "python",
   "nbconvert_exporter": "python",
   "pygments_lexer": "ipython3",
   "version": "3.10.12"
  }
 },
 "nbformat": 4,
 "nbformat_minor": 5
}
