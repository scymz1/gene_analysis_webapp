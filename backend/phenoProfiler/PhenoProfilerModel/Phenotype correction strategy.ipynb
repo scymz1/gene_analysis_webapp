{
 "cells": [
  {
   "cell_type": "markdown",
   "metadata": {},
   "source": [
    "# PCS"
   ]
  },
  {
   "cell_type": "code",
   "execution_count": null,
   "metadata": {},
   "outputs": [
    {
     "name": "stdout",
     "output_type": "stream",
     "text": [
      "(66558, 672)\n",
      "11519 [99, 100, 101, 102, 103, 104, 105, 106, 107, 108]\n",
      "(66558, 673)\n",
      "(11519, 673)\n",
      "(66558, 672)\n"
     ]
    }
   ],
   "source": [
    "import os\n",
    "import numpy as np\n",
    "import pandas as pd\n",
    "\n",
    "def PCS(save_path, meta_file, feature_file, alpha=0.7):\n",
    "    # Load metadata of index data\n",
    "    meta = pd.read_csv(meta_file)\n",
    "    meta[\"broad_sample\"] = meta[\"Treatment\"].str.split(\"@\", expand=True)[0]\n",
    "\n",
    "    features = np.load(feature_file)\n",
    "    print(features.shape)\n",
    "\n",
    "    # 用序号的方式来指定 control Wells\n",
    "    dmso_indices = meta.index[meta['Compound'] == 'DMSO'].tolist()\n",
    "    # dmso_indices = meta.index[meta['Treatment'] == 'NA@NA'].tolist()  # for 36\n",
    "    # dmso_indices = meta.index[meta['pert_name'] == 'EMPTY_'].tolist() # for 37\n",
    "    print(len(dmso_indices))\n",
    "\n",
    "    # 提取 meta 中的第一列 'Metadata_Plate'\n",
    "    metadata_plate = meta['Metadata_Plate'].values.reshape(-1, 1)\n",
    "\n",
    "    # 将 'Metadata_Plate' 列融合到 features 的第一列\n",
    "    combined_features = np.hstack((metadata_plate, features))\n",
    "    combined_df = pd.DataFrame(combined_features, columns=['Metadata_Plate'] + [f'{i}' for i in range(1, features.shape[1]+1)])\n",
    "    print(combined_df.shape)\n",
    "\n",
    "    # 只保留dmso_indices对应的行\n",
    "    filtered_combined_df = combined_df.iloc[dmso_indices]\n",
    "    print(filtered_combined_df.shape)\n",
    "\n",
    "    # control well 对应的 特征\n",
    "    control_df = filtered_combined_df.groupby([\"Metadata_Plate\"]).mean().reset_index()\n",
    "\n",
    "    # 减去 control_df 中相同 Metadata_Plate 的行对应的后面 672 特征维度\n",
    "    def subtract_control_features(row, control_df):\n",
    "        plate = row['Metadata_Plate']\n",
    "        control_row = control_df[control_df['Metadata_Plate'] == plate]\n",
    "        if not control_row.empty:\n",
    "            row.iloc[1:] = row.iloc[1:] - control_row.iloc[0, 1:] * alpha\n",
    "        return row\n",
    "\n",
    "    adjusted_combined_df = combined_df.apply(subtract_control_features, axis=1, control_df=control_df)\n",
    "\n",
    "    # 移除第一列 'Metadata_Plate'，然后变成 (66558, 672)\n",
    "    adjusted_combined_df = adjusted_combined_df.drop(columns=['Metadata_Plate'])\n",
    "\n",
    "    # 保存为 .npy 文件\n",
    "    np.save(save_path+ str(alpha) + '.npy', adjusted_combined_df.values)\n",
    "    print(adjusted_combined_df.shape)\n",
    "\n",
    "# 调用函数\n",
    "PCS(\n",
    "    feature_file=\"Fig5/BBBC022/PhenoProfiler_Alltrain_22test.npy\", # your file path\n",
    "    meta_file=\"/data/boom/bbbc022/profiling.csv\",\n",
    "    alpha=0.7,\n",
    "    save_path=\"PhenoProfiler_Alltrain_22test_\"\n",
    ")"
   ]
  },
  {
   "cell_type": "code",
   "execution_count": null,
   "metadata": {},
   "outputs": [],
   "source": []
  }
 ],
 "metadata": {
  "kernelspec": {
   "display_name": "boom",
   "language": "python",
   "name": "python3"
  },
  "language_info": {
   "codemirror_mode": {
    "name": "ipython",
    "version": 3
   },
   "file_extension": ".py",
   "mimetype": "text/x-python",
   "name": "python",
   "nbconvert_exporter": "python",
   "pygments_lexer": "ipython3",
   "version": "3.11.10"
  }
 },
 "nbformat": 4,
 "nbformat_minor": 2
}
