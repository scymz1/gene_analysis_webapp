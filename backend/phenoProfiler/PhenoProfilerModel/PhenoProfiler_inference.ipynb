{
 "cells": [
  {
   "cell_type": "markdown",
   "metadata": {},
   "source": [
    "# PhenoProfiler Introduction\n",
    "\n",
    "Welcome to the PhenoProfiler project! This notebook will guide you through using PhenoProfiler. For more detailed information, please refer to our preprint on bioRxiv.\n",
    "\n",
    "## Main API Functions\n",
    "\n",
    "PhenoProfiler provides two primary API functions:\n",
    "\n",
    "1. **Process a Multi-Channel Image**:\n",
    "   - **Input**: multi-channel images.\n",
    "   - **Output**: Returns an embedding for these images.\n",
    "\n",
    "2. **Process a Dataset**:\n",
    "   - **Input**: A dataset containing multiple images.\n",
    "   - **Output**: Returns an embedding for the dataset.\n"
   ]
  },
  {
   "cell_type": "markdown",
   "metadata": {},
   "source": [
    "# 1. Process a Multi-Channel Image from BBBC022"
   ]
  },
  {
   "cell_type": "code",
   "execution_count": 4,
   "metadata": {},
   "outputs": [
    {
     "name": "stdout",
     "output_type": "stream",
     "text": [
      "torch.Size([1, 672])\n"
     ]
    }
   ],
   "source": [
    "import numpy as np\n",
    "import torch\n",
    "from skimage.transform import resize\n",
    "from PIL import Image\n",
    "from models import PhenoProfiler\n",
    "\n",
    "# List of image paths\n",
    "img_paths = [\n",
    "    './Sample_imgs/IXMtest_A01_s2_w1AA6B1894-F561-42EE-9D1D-E21E5C741B75.png',\n",
    "    './Sample_imgs/IXMtest_A01_s2_w3A597237B-C3D7-43AE-8399-83E76DA1532D.png',\n",
    "    './Sample_imgs/IXMtest_A01_s2_w50F1562CD-EBCF-408E-9D8D-F6F0FDD746C8.png',\n",
    "    './Sample_imgs/IXMtest_A01_s2_w246FFAEE1-BEB6-4C81-913B-B979EC0C4BC3.png',\n",
    "    './Sample_imgs/IXMtest_A01_s2_w46657239A-5AFE-4C29-BB9B-49978EFE4791.png',\n",
    "]\n",
    "\n",
    "# Load and preprocess images\n",
    "images = np.stack([resize(np.array(Image.open(path)), (448, 448), anti_aliasing=True) for path in img_paths])\n",
    "images_tensor = torch.tensor(images).float().cuda()\n",
    "\n",
    "# Load model\n",
    "model = PhenoProfiler().cuda()\n",
    "model.load_state_dict(torch.load('./PhenoProfiler.pt', weights_only=True))\n",
    "\n",
    "# Generate embeddings\n",
    "image_features = model.image_encoder(images_tensor.unsqueeze(0))\n",
    "image_embeddings = model.image_projection(image_features)\n",
    "\n",
    "# Print the shape of the embeddings\n",
    "print(image_embeddings.shape)"
   ]
  },
  {
   "cell_type": "markdown",
   "metadata": {},
   "source": [
    "# 2. Test BBBC022 dataset"
   ]
  },
  {
   "cell_type": "code",
   "execution_count": null,
   "metadata": {},
   "outputs": [],
   "source": [
    "## Step 1: mkdir filepath to save dataset\n",
    "\n",
    "!mkdir -p '../dataset/bbbc022/'\n",
    "\n",
    "# Step 2: dowaload BBBC022 dataset, very lagre, about 70G\n",
    "!aws s3 cp s3://cytodata/datasets/Bioactives-BBBC022-Gustafsdottir/ ../dataset/bbbc022/ --recursive --no-sign-request"
   ]
  },
  {
   "cell_type": "code",
   "execution_count": null,
   "metadata": {},
   "outputs": [],
   "source": [
    "import os\n",
    "import numpy as np\n",
    "import torch\n",
    "from torch.utils.data import DataLoader\n",
    "from tqdm import tqdm\n",
    "from dataset import PDDMtaskDataset\n",
    "from models import PhenoProfiler\n",
    "from utils import *\n",
    "\n",
    "def build_loaders_inference(batch_size):\n",
    "    print(\"Building loaders\")\n",
    "    dataset = PDDMtaskDataset(image_path = \"../dataset/bbbc022/images/\",\n",
    "               embedding_path = \"../dataset/bbbc022/embedding/\",\n",
    "               CSV_path = \"../dataset/bbbc022/profiling.csv\")\n",
    "    \n",
    "    dataset = torch.utils.data.ConcatDataset([dataset])\n",
    "    test_loader = DataLoader(dataset, batch_size=batch_size, shuffle=False, num_workers=4, pin_memory=True, drop_last=False)\n",
    "\n",
    "    print(\"Finished building loaders\")\n",
    "    return test_loader\n",
    "\n",
    "def get_image_embeddings(model_path, model, batch_size):\n",
    "    test_loader = build_loaders_inference(batch_size)\n",
    "\n",
    "    state_dict = torch.load(model_path)\n",
    "    model.load_state_dict(state_dict)\n",
    "    model.eval()\n",
    "\n",
    "    print(\"Finished loading model\")\n",
    "    test_image_embeddings = []\n",
    "    with torch.no_grad():\n",
    "        for batch in tqdm(test_loader):\n",
    "            image_features = model.image_encoder(batch[\"image\"].cuda())\n",
    "            image_embeddings = model.image_projection(image_features)\n",
    "            test_image_embeddings.append(image_embeddings)\n",
    "    \n",
    "    return torch.cat(test_image_embeddings)"
   ]
  },
  {
   "cell_type": "code",
   "execution_count": null,
   "metadata": {},
   "outputs": [],
   "source": [
    "model_path = \"PhenoProfiler.pt\"\n",
    "save_path = \"output/bbbc022/PhenoProfiler/\"\n",
    "\n",
    "if not os.path.exists(save_path):\n",
    "    os.makedirs(save_path)\n",
    "\n",
    "model = PhenoProfiler().cuda()\n",
    "img_embeddings = get_image_embeddings(model_path, model, batch_size=800)  # change batch_size to fit your device\n",
    "features = img_embeddings.cpu().numpy()\n",
    "\n",
    "np.save(save_path + \"PhenoProfiler_alltrain_22test\" + \".npy\", features.T)"
   ]
  },
  {
   "cell_type": "code",
   "execution_count": null,
   "metadata": {},
   "outputs": [],
   "source": []
  }
 ],
 "metadata": {
  "kernelspec": {
   "display_name": "boom",
   "language": "python",
   "name": "python3"
  },
  "language_info": {
   "codemirror_mode": {
    "name": "ipython",
    "version": 3
   },
   "file_extension": ".py",
   "mimetype": "text/x-python",
   "name": "python",
   "nbconvert_exporter": "python",
   "pygments_lexer": "ipython3",
   "version": "3.11.10"
  }
 },
 "nbformat": 4,
 "nbformat_minor": 2
}
